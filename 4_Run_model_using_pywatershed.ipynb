{
 "cells": [
  {
   "cell_type": "code",
   "execution_count": null,
   "id": "34ec88cf-ea91-4ef1-ba16-ace9d78c9030",
   "metadata": {},
   "outputs": [],
   "source": [
    "%run \"0a_Workspace_setup.ipynb\"\n",
    "from tqdm.notebook import tqdm  # Check with James if this is needed\n",
    "\n",
    "# import shutil\n",
    "# import time"
   ]
  },
  {
   "cell_type": "code",
   "execution_count": null,
   "id": "51d85ea6-aa33-44ed-bcd7-c0ab01560572",
   "metadata": {},
   "outputs": [],
   "source": [
    "# Check for input in correct format for PyWatershed:\n",
    "pws_prcp_input_file = model_dir / \"prcp.nc\"\n",
    "pws_tmin_input_file = model_dir / \"tmin.nc\"\n",
    "pws_tmax_input_file = model_dir / \"tmax.nc\"\n",
    "\n",
    "nhmx_input_file = model_dir / \"cbh.nc\"\n",
    "\n",
    "input_file_path_list = [pws_prcp_input_file, pws_tmin_input_file, pws_tmax_input_file]\n",
    "\n",
    "#\n",
    "for input_file_path in input_file_path_list:\n",
    "    if not input_file_path.exists():\n",
    "        con.print(\n",
    "            f\"One or more of the pywatershed input files does not exist. All input file will be rewritten from the cbh.nc file.\"\n",
    "        )\n",
    "        with xr.open_dataset(\n",
    "            nhmx_input_file\n",
    "        ) as input:  # This is the input file given with NHMx\n",
    "            model_input = input.swap_dims({\"nhru\": \"nhm_id\"}).drop(\"nhru\")\n",
    "            # model_input = input.rename({'hru-d':'hruid'})\n",
    "            prcp = getattr(model_input, \"prcp\")\n",
    "            tmin = getattr(model_input, \"tmin\")\n",
    "            tmax = getattr(model_input, \"tmax\")\n",
    "        prcp.to_netcdf(pws_prcp_input_file)\n",
    "        tmin.to_netcdf(pws_tmin_input_file)\n",
    "        tmax.to_netcdf(pws_tmax_input_file)\n",
    "        con.print(\n",
    "            f\"The pywatershed input file [bold]{pl.Path(input_file_path).stem}[/bold] was missing. All pywatershed input files were created in {model_dir} from the cbh.nc file.\"\n",
    "        )\n",
    "    else:\n",
    "        pass\n",
    "con.print(\n",
    "    f\"[bold][green]Optional:[/bold][/green] To recreate pywatershed input files in {model_dir}, delete [bold]prcp.nc[/bold], [bold]tmin.nc[/bold], and [bold]tmax.nc[/bold] files and re-run this notebook.\"\n",
    ")"
   ]
  },
  {
   "cell_type": "markdown",
   "id": "9dbaa644-a220-4c62-a898-523ac33efda4",
   "metadata": {},
   "source": [
    "### Writes the parameter file as a json file¶\n",
    "#### This makes the par file compatible with our current notebooks for pws\n"
   ]
  },
  {
   "cell_type": "code",
   "execution_count": null,
   "id": "16a60eed-8f8a-41b3-86c6-f4d7ecbceae0",
   "metadata": {},
   "outputs": [],
   "source": [
    "# #Setting the model parameter file name-- this set to pyWatershed custom output file, but may choose another NHM file from Bandit extraction, eg. byHRU.\n",
    "\n",
    "pardat = pws.parameters.PrmsParameters.load(\n",
    "    param_filename\n",
    ")  # load parameter file from extraction\n",
    "\n",
    "# pardat.parameters_to_json(model_dir /\"parameters.json\")"
   ]
  },
  {
   "cell_type": "markdown",
   "id": "b6a51b62-88a1-41e8-96a8-2e6cd54f3c53",
   "metadata": {},
   "source": [
    "#### Some useful pws checks\n"
   ]
  },
  {
   "cell_type": "code",
   "execution_count": null,
   "id": "170008ca-a25e-4e56-bd0a-2cf46df554c9",
   "metadata": {},
   "outputs": [],
   "source": [
    "# pws.PRMSCanopy.get_variables()\n",
    "# pws.PRMSSnow.get_variables()\n",
    "# pws.PRMSRunoff.get_variables()\n",
    "# pws.PRMSSoilzone.get_variables()\n",
    "# pws.PRMSGroundwater.get_variables()\n",
    "# pws.PRMSChannel.get_variables()\n",
    "# pws.PRMSStarfit.get_variables()\n",
    "\n",
    "# pws.meta.find_variables([pws.PRMSChannel.get_variables()[2]])\n",
    "\n",
    "# Helpful table for explaining variables https://water.usgs.gov/water-resources/software/PRMS/PRMS_tables_5.2.1.pdf"
   ]
  },
  {
   "cell_type": "code",
   "execution_count": null,
   "id": "cd6a91cf-cfbf-425e-b171-2897b32c1498",
   "metadata": {},
   "outputs": [],
   "source": [
    "pws.meta.find_variables([pws.PRMSChannel.get_variables()[6]])"
   ]
  },
  {
   "cell_type": "code",
   "execution_count": null,
   "id": "e7c79ddb-5133-4eb9-8ceb-2ee7217966b6",
   "metadata": {},
   "outputs": [],
   "source": [
    "pws.PRMSAtmosphere.get_variables()"
   ]
  },
  {
   "cell_type": "code",
   "execution_count": null,
   "id": "6839e34a-2353-4f87-8e47-75d9b03457d3",
   "metadata": {},
   "outputs": [],
   "source": [
    "# pws.meta.find_variables([pws.PRMSAtmosphere.get_variables()[5]])"
   ]
  },
  {
   "cell_type": "code",
   "execution_count": null,
   "id": "493702d8-2dd8-46a7-a6a3-0ae9b392a37f",
   "metadata": {},
   "outputs": [],
   "source": [
    "pws.PRMSCanopy.get_variables()"
   ]
  },
  {
   "cell_type": "code",
   "execution_count": null,
   "id": "f38136ae-66fa-475e-8bd1-f03fa7f8193e",
   "metadata": {},
   "outputs": [],
   "source": [
    "pws.meta.find_variables([pws.PRMSCanopy.get_variables()[6]])"
   ]
  },
  {
   "cell_type": "code",
   "execution_count": null,
   "id": "3ebfa5a2-ab5d-4896-8d05-bb9dec89e5ce",
   "metadata": {},
   "outputs": [],
   "source": [
    "# pws.PRMSSnow.get_variables()"
   ]
  },
  {
   "cell_type": "code",
   "execution_count": null,
   "id": "c754591c-38ba-49d7-800b-c6da30b60d66",
   "metadata": {},
   "outputs": [],
   "source": [
    "pws.PRMSAtmosphere"
   ]
  },
  {
   "cell_type": "code",
   "execution_count": null,
   "id": "ace14adb-e8ce-49df-813b-1338c4876010",
   "metadata": {},
   "outputs": [],
   "source": [
    "pws.meta.find_variables([pws.PRMSSnow.get_variables()[2]])"
   ]
  },
  {
   "cell_type": "markdown",
   "id": "a5e311ee-d072-4bb7-86a9-6445d8d4c88d",
   "metadata": {},
   "source": [
    "### Custom Run the Model output loop and default output loop\n",
    "The default loop will output the PyWatershed standard output variables only and outputs each variable as a .nc file.\n",
    "The cusom loop uses the standartds to calculate other output variables (known to PyWatershed) and creates one .nc file will all standard and custom variables and metadata, with special dimension for pois."
   ]
  },
  {
   "cell_type": "code",
   "execution_count": null,
   "id": "6ad30ca5-4cc3-4884-a605-4da17d9f4de4",
   "metadata": {},
   "outputs": [],
   "source": [
    "# JLM TODO: move to markdown\n",
    "# pywatershed  requires the siolzone variable \"pref_flow_infil_frac\" to be\n",
    "# present where as PRMS does not. If the variable is not in the PRMS files\n",
    "# we must add it to the parmaeter as all zeros before passing the parameters\n",
    "# to the model.\n",
    "params = pws.parameters.PrmsParameters.load(param_filename)\n",
    "if not \"pref_flow_infil_frac\" in params.parameters.keys():\n",
    "    # Parameter objects are not directly editable in pywatershed,\n",
    "    # so we export to an equivalent object we can edit, in this case\n",
    "    # an xarray dataset, then we convert back\n",
    "    params_ds = params.to_xr_ds()\n",
    "    params_ds[\"pref_flow_infil_frac\"] = params_ds.pref_flow_den[:] * 0.0\n",
    "    params = pws.parameters.PrmsParameters.from_ds(params_ds)"
   ]
  },
  {
   "cell_type": "code",
   "execution_count": null,
   "id": "5aa1a1a0-0ecf-4377-bce8-6826d7f8eb31",
   "metadata": {},
   "outputs": [],
   "source": [
    "%%time\n",
    "control = pws.Control.load_prms(\n",
    "    model_dir / control_file_name, warn_unused_options=False\n",
    ")\n",
    "# Sets control options for both cases\n",
    "control.options = control.options | {\n",
    "    \"input_dir\": model_dir,\n",
    "    \"budget_type\": None,\n",
    "    \"verbosity\": 0,\n",
    "    \"calc_method\": \"numba\",\n",
    "}\n",
    "\n",
    "control.options = control.options | {\n",
    "    \"netcdf_output_var_names\": selected_output_variables,\n",
    "    \"netcdf_output_dir\": out_dir,\n",
    "}\n",
    "\n",
    "model = pws.Model(\n",
    "    [\n",
    "        pws.PRMSSolarGeometry,\n",
    "        pws.PRMSAtmosphere,\n",
    "        pws.PRMSCanopy,\n",
    "        pws.PRMSSnow,\n",
    "        pws.PRMSRunoff,\n",
    "        pws.PRMSSoilzone,\n",
    "        pws.PRMSGroundwater,\n",
    "        pws.PRMSChannel,\n",
    "    ],\n",
    "    control=control,\n",
    "    parameters=params,\n",
    ")\n",
    "\n",
    "\n",
    "model.run()"
   ]
  },
  {
   "cell_type": "code",
   "execution_count": null,
   "id": "93db62b9-d6e4-4bcd-8420-2793beb4ab38",
   "metadata": {},
   "outputs": [],
   "source": [
    "hru_streamflow_out = sum(\n",
    "    xr.load_dataarray(f\"{out_dir / ff}.nc\")\n",
    "    for ff in [\"sroff_vol\", \"ssres_flow_vol\", \"gwres_flow_vol\"]\n",
    ")\n",
    "hru_streamflow_out.to_netcdf(out_dir / \"hru_streamflow_out.nc\")\n",
    "del hru_streamflow_out"
   ]
  },
  {
   "cell_type": "code",
   "execution_count": null,
   "id": "e7c3c654-7af3-4f87-885a-c9c60c81392d",
   "metadata": {},
   "outputs": [],
   "source": [
    "# For streamflow, just keep output on the POIs.\n",
    "# - 1 is related to the indexing in fortran; made a a tuple see above\n",
    "wh_gages = (params.parameters[\"poi_gage_segment\"] - 1,)\n",
    "for var in [\"seg_outflow\"]:\n",
    "    data = xr.load_dataarray(f\"{out_dir / var}.nc\")[:, wh_gages[0]]\n",
    "    data = data.assign_coords(npoi_gages=(\"nhm_seg\", params.parameters[\"poi_gage_id\"]))\n",
    "    out_file = f\"{out_dir / var}.nc\"\n",
    "    data.to_netcdf(out_file)\n",
    "    del data"
   ]
  },
  {
   "cell_type": "code",
   "execution_count": null,
   "id": "6e7dc595-28f0-4d1a-adde-659570fc0a0d",
   "metadata": {},
   "outputs": [],
   "source": []
  }
 ],
 "metadata": {
  "language_info": {
   "name": "python"
  }
 },
 "nbformat": 4,
 "nbformat_minor": 5
}
