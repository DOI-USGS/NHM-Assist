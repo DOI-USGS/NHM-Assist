{
 "cells": [
  {
   "cell_type": "code",
   "execution_count": null,
   "id": "8877dfde-c82e-43f3-b348-6cca48983457",
   "metadata": {},
   "outputs": [],
   "source": [
    "# Import Notebook Packages\n",
    "import warnings\n",
    "from urllib import request\n",
    "from urllib.request import urlopen\n",
    "from urllib.error import HTTPError\n",
    "\n",
    "import re\n",
    "from io import StringIO\n",
    "import os\n",
    "import re\n",
    "import sys\n",
    "from collections import OrderedDict\n",
    "\n",
    "os.environ[\"USE_PYGEOS\"] = \"0\"\n",
    "\n",
    "import geopandas as gpd\n",
    "import xarray as xr\n",
    "import pandas as pd\n",
    "import pathlib as pl\n",
    "import numpy as np\n",
    "import pyogrio\n",
    "\n",
    "import netCDF4\n",
    "\n",
    "import ipyleaflet\n",
    "\n",
    "import branca\n",
    "import branca.colormap as cm\n",
    "\n",
    "import folium\n",
    "from folium import Circle, Marker\n",
    "from folium import plugins\n",
    "from folium.features import DivIcon\n",
    "from folium.plugins import MarkerCluster\n",
    "from ipywidgets import widgets\n",
    "\n",
    "from ipyleaflet import Map, GeoJSON\n",
    "\n",
    "# PyPRMS needs\n",
    "from pyPRMS import Dimensions\n",
    "from pyPRMS.metadata.metadata import MetaData\n",
    "from pyPRMS import ControlFile\n",
    "from pyPRMS import Parameters\n",
    "from pyPRMS import ParameterFile\n",
    "from pyPRMS.prms_helpers import get_file_iter, cond_check\n",
    "from pyPRMS.constants import (\n",
    "    DIMENSIONS_HDR,\n",
    "    PARAMETERS_HDR,\n",
    "    VAR_DELIM,\n",
    "    PTYPE_TO_PRMS_TYPE,\n",
    "    PTYPE_TO_DTYPE,\n",
    ")\n",
    "from pyPRMS.Exceptions_custom import ParameterExistsError, ParameterNotValidError\n",
    "import networkx as nx\n",
    "from collections.abc import KeysView\n",
    "\n",
    "import pywatershed as pws\n",
    "\n",
    "from rich.console import Console\n",
    "from rich.progress import track\n",
    "from rich.progress import Progress\n",
    "from rich import pretty\n",
    "\n",
    "pretty.install()\n",
    "con = Console()\n",
    "\n",
    "warnings.filterwarnings(\"ignore\")\n",
    "\n",
    "#### Adds:\n",
    "import matplotlib as mplib\n",
    "import matplotlib.pyplot as plt\n",
    "import matplotlib.dates as mdates\n",
    "\n",
    "import datetime as dt\n",
    "\n",
    "# from datetime import datetime\n",
    "\n",
    "import ipyleaflet\n",
    "from ipyleaflet import Map, GeoJSON\n",
    "\n",
    "from folium import Choropleth\n",
    "from folium.plugins import BeautifyIcon\n",
    "\n",
    "import branca\n",
    "import branca.colormap as cm\n",
    "\n",
    "import plotly.graph_objects as go\n",
    "import plotly\n",
    "import plotly.subplots\n",
    "import plotly.express as px\n",
    "\n",
    "import dataretrieval.nwis as nwis\n",
    "\n",
    "\n",
    "from NHM_helpers.efc import *\n",
    "from NHM_helpers import NHM_helpers as helpers\n",
    "from NHM_helpers.NHM_Assist_utilities import *\n",
    "from NHM_helpers.NHM_hydrofabric import *\n",
    "\n",
    "\n",
    "import jupyter_black\n",
    "\n",
    "jupyter_black.load()"
   ]
  },
  {
   "cell_type": "markdown",
   "id": "851d845f-9086-4d43-8864-ffd1a2b4a398",
   "metadata": {},
   "source": [
    "## Introduction\n",
    "This notebook is designed for the user to setup NHM-Assist and a provided NHM subbasin model in a project workspace.  If you have not been provided a NHM subbasin model, default paths are set to an example model that can be downloaded from the USGS OSN storage pod following these steps.\n",
    "1. Open up a miniforge prompt.\n",
    "2. cd to the **NHM-Assist** folder\n",
    "3. type `python pull_domain.py --name=willamette_river`"
   ]
  },
  {
   "cell_type": "markdown",
   "id": "2772cab8-9c62-40bf-9f15-b12d289c22e6",
   "metadata": {},
   "source": [
    "## National Hydrologic Model subabsin models\n",
    "A sub-basin models for any domain within the NHM are extracted using an automated workflow that generates a complete set of PRMS input files that contain the data and parameters required for a NHM-PRMS model [Regan and others, 2018](https://pubs.usgs.gov/publication/tm6B9). This tool is written in the [Python language](https://www.python.org) and is designed to be run from the command line on [USGS high-performance computing resources](https://www.usgs.gov/advanced-research-computing). At this time, users do not need to download this software and instead can request a model subset following these steps:\n",
    "\n",
    "1. Go to the web page [https://www.sciencebase.gov/catalog/item/5e29b87fe4b0a79317cf7df5](https://www.sciencebase.gov/catalog/item/5e29b87fe4b0a79317cf7df5)\n",
    "2. Click the child item titled, [“GIS Features of the Geospatial Fabric for the National Hydrologic Model, version 1.1.”](https://www.sciencebase.gov/catalog/item/5e29d1a0e4b0a79317cf7f63)\n",
    "3. Download attached files \"GFv1.1.gdb.zip\" and compare NHM segments to your area-of-interest.\n",
    "4. Send an emial to pnorton@usgs.gov that includes the following:\n",
    "   * Name, Email address, Organization, and optionally, Phone;\n",
    "   * Using GFv1.1.gdb, include one or more national model segments (nhm_seg) associated with watershed outlet(s) points in your area-of-interest.\n",
    "   * Include a short descriptive summary of your modeling application."
   ]
  },
  {
   "cell_type": "markdown",
   "id": "3cbeb8a3-9c45-428a-8bca-a29cd29741a7",
   "metadata": {},
   "source": [
    "## **User Provided Information**\n",
    "<font size=4>The user must provide and/or review information where <font color='green'>&#x270D;**Enter Information:**</font> appears in this notebook. "
   ]
  },
  {
   "cell_type": "markdown",
   "id": "70c72a14-a5a4-4e24-a27a-33a5214e6a12",
   "metadata": {},
   "source": [
    "#### &#x270D;<font color='green'>**Enter Information:**</font> **selected NHM subbasin model folder name**.\n",
    "> The default is set to the example NHM subbasin model name, \"20220819_oregon\"."
   ]
  },
  {
   "cell_type": "code",
   "execution_count": null,
   "id": "f41f8f2f-4ab4-42eb-a934-8d6f7ec34edc",
   "metadata": {},
   "outputs": [],
   "source": [
    "subbasin = \"willamette_river\"\n",
    "\n",
    "model_dir = pl.Path(f\"domain_data/{subbasin}\")"
   ]
  },
  {
   "cell_type": "markdown",
   "id": "4379b930-f577-4dc4-ac37-9165ecc43b64",
   "metadata": {},
   "source": [
    "#### &#x270D;<font color='green'>**Enter Information:**</font> **GIS file format**. \n",
    "> The default format is a geopackage (**.gpkg**) but other formats such as ESRI shape file (**.shp**) may have been provided."
   ]
  },
  {
   "cell_type": "code",
   "execution_count": null,
   "id": "8016abe2-e2d6-43a2-b0c8-1c1f42854be4",
   "metadata": {},
   "outputs": [],
   "source": [
    "GIS_format = \".gpkg\""
   ]
  },
  {
   "cell_type": "markdown",
   "id": "62b4feeb-df55-4bd4-8b8d-587a512c8823",
   "metadata": {},
   "source": [
    "#### &#x270D;<font color='green'>**Enter Information:**</font> **parameter file name**. \n",
    "> The default file name is **myparam.param**. Parameter files from other model calibrations, i.e. byHRU, byHW, byHWobs can be selected here."
   ]
  },
  {
   "cell_type": "code",
   "execution_count": null,
   "id": "bcda903e-8e05-4f23-b503-075ac43d051f",
   "metadata": {},
   "outputs": [],
   "source": [
    "param_file = \"myparam.param\"\n",
    "\n",
    "param_filename = f\"{model_dir}/{param_file}\""
   ]
  },
  {
   "cell_type": "markdown",
   "id": "60fe15eb-a58d-43ec-af0f-cfce6a962830",
   "metadata": {},
   "source": [
    "#### &#x270D;<font color='green'>**Enter Information:**</font> **control file name**. \n",
    "> The default file name is **control.default.bandit**."
   ]
  },
  {
   "cell_type": "code",
   "execution_count": null,
   "id": "c6248283-df2e-4650-a1e4-7867a2896116",
   "metadata": {},
   "outputs": [],
   "source": [
    "control_file_name = \"control.default.bandit\"\n",
    "\n",
    "control = pws.Control.load_prms(\n",
    "    pl.Path(model_dir / control_file_name), warn_unused_options=False\n",
    ")  # loads the control file for pywatershed functions"
   ]
  },
  {
   "cell_type": "markdown",
   "id": "1e5fbd8f-7d88-49d6-bf14-ff62447935bf",
   "metadata": {},
   "source": [
    "#### &#x270D;<font color='green'>**Enter Information:**</font> **Minimum streamflow observations (days)**. \n",
    "> Notebook 2 displays NWIS gages not listed the parameter file. These will be limted to number of streamflow observations (days) indicated below."
   ]
  },
  {
   "cell_type": "code",
   "execution_count": null,
   "id": "1fabb12f-40f8-4082-ad80-252d978af7b6",
   "metadata": {},
   "outputs": [],
   "source": [
    "nwis_gage_nobs_min = 90  # days"
   ]
  },
  {
   "cell_type": "markdown",
   "id": "998729bc-5526-486c-af36-6b9dc1be315a",
   "metadata": {},
   "source": [
    "#### &#x270D;<font color='green'>**Enter Information:**</font> **List of parameters**. \n",
    "> Notebook 3 visualizes parameter values from the parameter file. Type the parameters you wish to visualize in the list(s) below. To view complete lists of parameters, copy/paste the functions below into a code block.\n",
    "```python\n",
    "bynhru_parameter_list(param_filename)\n",
    "bynmonth_bynhru_parameter_list(param_filename)\n",
    "bynsegment_parameter_list(param_filename)\n",
    "```"
   ]
  },
  {
   "cell_type": "code",
   "execution_count": null,
   "id": "e8932cd8-fd5b-4559-8fd2-9be494f9c97c",
   "metadata": {},
   "outputs": [],
   "source": [
    "# Create list of calibration parameters\n",
    "nhru_params = [\n",
    "    \"carea_max\",\n",
    "    \"emis_noppt\",\n",
    "    \"fastcoef_lin\",\n",
    "    \"freeh2o_cap\",\n",
    "    \"gwflow_coef\",\n",
    "    \"potet_sublim\",\n",
    "    \"rad_trncf\",\n",
    "    \"slowcoef_sq\",\n",
    "    \"smidx_coef\",\n",
    "    \"smidx_exp\",\n",
    "    \"snowinfil_max\",\n",
    "    \"soil2gw_max\",\n",
    "    \"soil_moist_max\",\n",
    "    \"soil_rechr_max_frac\",\n",
    "    \"ssr2gw_exp\",\n",
    "    \"ssr2gw_rate\",\n",
    "]  # List any output param here.\n",
    "\n",
    "nhru_nmonths_params = [\n",
    "    \"adjmix_rain\",\n",
    "    \"cecn_coef\",\n",
    "    \"jh_coef\",\n",
    "    \"tmax_allrain_offset\",\n",
    "    \"tmax_allsnow\",\n",
    "    \"radmax\",\n",
    "    \"rain_cbh_adj\",\n",
    "    \"snow_cbh_adj\",\n",
    "    \"tmax_cbh_adj\",\n",
    "    \"tmin_cbh_adj\",\n",
    "]  # List any output param here."
   ]
  },
  {
   "cell_type": "markdown",
   "id": "cdaa7b6e-4c00-4cd0-bc17-daa73fcaf941",
   "metadata": {},
   "source": [
    "#### &#x270D;<font color='green'>**Enter Information:**</font> **List of output variables**. \n",
    "> Notebooks 5 and 6 visualize model output variables from the output file file. List the output variables desired to visualize. To find a list of additional variables for each process, use \".get_variables()\". Examples are below.\n",
    "\n",
    "```python\n",
    "pws.PRMSCanopy.get_variables()\n",
    "pws.PRMSSnow.get_variables()\n",
    "pws.PRMSRunoff.get_variables()\n",
    "pws.PRMSSoilzone.get_variables()\n",
    "pws.PRMSGroundwater.get_variables()\n",
    "pws.PRMSChannel.get_variables()\n",
    "pws.PRMSStarfit.get_variables()\n",
    "pws.meta.find_variables([pws.PRMSChannel.get_variables()[2]])\n",
    "```"
   ]
  },
  {
   "cell_type": "code",
   "execution_count": null,
   "id": "b3a320e0-a112-4071-8502-4103904f0678",
   "metadata": {},
   "outputs": [],
   "source": [
    "selected_output_variables = [\n",
    "    \"hru_actet\",\n",
    "    \"seg_outflow\",\n",
    "    \"recharge\",\n",
    "    \"net_rain\",\n",
    "    \"net_snow\",\n",
    "    \"net_ppt\",\n",
    "    \"sroff\",\n",
    "    \"ssres_flow\",\n",
    "    \"gwres_flow\",\n",
    "    \"gwres_sink\",\n",
    "    \"snowmelt\",\n",
    "    \"gwres_stor\",\n",
    "    \"gwres_stor_change\",\n",
    "    \"ssres_stor\",\n",
    "    \"unused_potet\",\n",
    "    \"sroff_vol\",\n",
    "    \"ssres_flow_vol\",\n",
    "    \"gwres_flow_vol\",\n",
    "]"
   ]
  },
  {
   "cell_type": "markdown",
   "id": "81a233e0-214e-4764-ba2a-4052447f069f",
   "metadata": {},
   "source": [
    "#### &#x270D;<font color='green'>**Enter Information:**</font> **Display output in calendar years (January 1st - December 31st) or water years (October 1st - September 30th)**. \n",
    "> Notebooks 5 and 6 visualize model output variables based upon calendar years or water years.\n",
    "> <br>Defualt is water years set to **True**. (change to **False** is calenadr years are preeferred."
   ]
  },
  {
   "cell_type": "code",
   "execution_count": null,
   "id": "bdb84511-c04d-4e0b-bf21-cfacb13578b1",
   "metadata": {},
   "outputs": [],
   "source": [
    "water_years = True"
   ]
  },
  {
   "cell_type": "markdown",
   "id": "640fad8c-069b-46e8-ae9e-da4a3c1afb60",
   "metadata": {},
   "source": [
    "#### All needed information has been provided above. Now the rest of the notebook will create the needed objects, paths and directories for NHM-Assist notebooks.\n",
    "> You're <font size=5 color=\"red\">**NOT FINISHED**</font> yet!</font> <font size=5 color=\"red\">**SAVE YOUR NOTEBOOK**</font> to retain entered information!"
   ]
  },
  {
   "cell_type": "markdown",
   "id": "9e39824e-674e-42cc-85e0-b031e01fb5c8",
   "metadata": {},
   "source": [
    "## Workspace Setup\n",
    "The NHM-Assist repository is designed to be placed in a project folder. Two subfolders in the the NHM-Assist repository have critical supporting documents.\n",
    "\n",
    "1. The **data_dependencies** folder with needed supporting files not included in the NHM v1.1 data release [Markstrom and others, 2024](https://www.sciencebase.gov/catalog/item/626c0d67d34e76103cd2ce4a)\n",
    "\n",
    "2. The **data_domain** folder contains the provided NHM subbasin model.\n",
    "    The provided NHM subbasin model folder should contain:\n",
    "    - **control.default.bandit**\n",
    "    - **myparam.param**\n",
    "    - **sf_data.nc**\n",
    "    - **cbh.nc**\n",
    "    - **GIS** folder containing\n",
    "        - **model_nhru.shp**\n",
    "        - **model_nsegment.shp**\n",
    "        - **model_npoigages.shp**\n",
    "        - and/or **model_layers.gpkg**"
   ]
  },
  {
   "cell_type": "markdown",
   "id": "09ee46c8-1680-4bd0-ac0c-3af7017296f4",
   "metadata": {},
   "source": [
    "NHM-Assist will create additional files and folders in NHM subbasin model folder. These include:\n",
    "\n",
    "- **default_gages.csv**\n",
    "- **NWISgages.csv**\n",
    " - **tmin.nc**\n",
    "- **tmax.nc**\n",
    "- **prcp.nc**\n",
    "- **model_output** folder\n",
    "- **notebook_output_files** folder containing:\n",
    "    - **Folium_maps** folder\n",
    "    - **GeoDataFrames** folder\n",
    "    - **nc_files** folder\n",
    "    - **shapefiles** folder\n",
    "**Note:** If subfolders do no exist, they will be created when needed.\n"
   ]
  },
  {
   "cell_type": "code",
   "execution_count": null,
   "id": "0055129a-20da-4a80-8794-297d6d3a41d4",
   "metadata": {},
   "outputs": [],
   "source": [
    "# Establish paths and file names\n",
    "\n",
    "gages_file = model_dir / \"gages.csv\"\n",
    "nwis_gages_file = model_dir / \"NWISgages.csv\"\n",
    "\n",
    "output_netcdf_filename = model_dir / \"notebook_output_files\" / \"nc_files\" / \"sf_efc.nc\"\n",
    "\n",
    "notebook_dir = pl.Path(\"./\").resolve()\n",
    "NHM_dir = f\"{notebook_dir}/data_dependencies/NHM_v1_1\"\n",
    "\n",
    "\n",
    "prms_meta = MetaData().metadata  # loads metadata functions for pyPRMS\n",
    "pdb = ParameterFile(\n",
    "    param_filename, metadata=prms_meta, verbose=False\n",
    ")  # loads parmaeterfile functions for pyPRMS"
   ]
  },
  {
   "cell_type": "code",
   "execution_count": null,
   "id": "3ac99931-0f63-4d64-a6d5-78cedf2c84d4",
   "metadata": {},
   "outputs": [],
   "source": [
    "# Create/verify Jupyter notebooks output folder and subfolders in the model directory.\n",
    "out_dir = model_dir / \"output\"\n",
    "if not pl.Path.exists(out_dir):\n",
    "    pl.Path(out_dir).mkdir(parents=True, exist_ok=True)\n",
    "else:\n",
    "    pass\n",
    "\n",
    "notebook_output_dir = pl.Path(model_dir / \"notebook_output_files\").resolve()\n",
    "if not pl.Path.exists(notebook_output_dir):\n",
    "    pl.Path(notebook_output_dir).mkdir(parents=True, exist_ok=True)\n",
    "else:\n",
    "    pass\n",
    "\n",
    "Folium_maps_dir = pl.Path(notebook_output_dir / \"Folium_maps\").resolve()\n",
    "if not pl.Path.exists(Folium_maps_dir):\n",
    "    pl.Path(Folium_maps_dir).mkdir(parents=True, exist_ok=True)\n",
    "else:\n",
    "    pass\n",
    "\n",
    "html_maps_dir = pl.Path(notebook_output_dir / \"html_maps\").resolve()\n",
    "if not pl.Path.exists(html_maps_dir):\n",
    "    pl.Path(html_maps_dir).mkdir(parents=True, exist_ok=True)\n",
    "else:\n",
    "    pass\n",
    "\n",
    "html_plots_dir = pl.Path(notebook_output_dir / \"html_plots\").resolve()\n",
    "if not pl.Path.exists(html_plots_dir):\n",
    "    pl.Path(html_plots_dir).mkdir(parents=True, exist_ok=True)\n",
    "else:\n",
    "    pass\n",
    "\n",
    "nc_files_dir = pl.Path(notebook_output_dir / \"nc_files\").resolve()\n",
    "if not (notebook_output_dir / \"nc_files\").exists():\n",
    "    (notebook_output_dir / \"nc_files\").mkdir(parents=True)\n",
    "else:\n",
    "    pass"
   ]
  },
  {
   "cell_type": "code",
   "execution_count": null,
   "id": "a9d0d75e-83a0-4836-b0c3-1c0bb52ffbf5",
   "metadata": {},
   "outputs": [],
   "source": [
    "# Print messages to display\n",
    "workspace_txt = f\"NHM model domain: [bold black]{subbasin}[/bold black], parameter file: [bold black]{param_file}[/bold black]\\nSimulation and observation data range: {pd.to_datetime(str(control.start_time)).strftime('%m/%d/%Y')} - {pd.to_datetime(str(control.end_time)).strftime('%m/%d/%Y')} (from [bold]{control_file_name}[/bold]).\""
   ]
  },
  {
   "cell_type": "code",
   "execution_count": null,
   "id": "5030861f-54d1-4bf6-ac4d-2ed8f512557c",
   "metadata": {},
   "outputs": [],
   "source": []
  },
  {
   "cell_type": "code",
   "execution_count": null,
   "id": "65f900ae-a5e3-44d4-993c-f925c1ae015f",
   "metadata": {},
   "outputs": [],
   "source": []
  }
 ],
 "metadata": {
  "language_info": {
   "name": "python"
  }
 },
 "nbformat": 4,
 "nbformat_minor": 5
}
