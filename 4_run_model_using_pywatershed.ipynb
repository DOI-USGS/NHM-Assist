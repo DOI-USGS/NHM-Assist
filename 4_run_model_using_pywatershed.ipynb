{
 "cells": [
  {
   "cell_type": "code",
   "execution_count": null,
   "id": "5867dc9f-50c8-43cf-acbc-112d88165390",
   "metadata": {},
   "outputs": [],
   "source": [
    "%run \"0_workspace_setup.ipynb\" "
   ]
  },
  {
   "cell_type": "code",
   "execution_count": null,
   "id": "34ec88cf-ea91-4ef1-ba16-ace9d78c9030",
   "metadata": {},
   "outputs": [],
   "source": [
    "import xarray as xr\n",
    "import numpy as np"
   ]
  },
  {
   "cell_type": "markdown",
   "id": "4b605532-dee3-49ff-82e2-83fc0c14350f",
   "metadata": {},
   "source": [
    "## Introduction\n",
    "The purpose of this model is first, to reformat any input files provided in the NHM subdomain model for running `pywatershed`. Next the notebook will run the NHM subdomain model using `pywatershed` using a customized run script. Other `pywatershed` run script examples can be found [here.](https://github.com/EC-USGS/pywatershed/tree/develop/examples) and generate a output files for selected variables and two customized output variables. \n",
    "\n",
    "What is pywatershed?\n",
    "\n",
    "Pywatershed is Python package for simulating hydrologic processes motivated by the need to modernize important, legacy hydrologic models at the USGS, particularly the [Precipitation-Runoff Modeling System](https://www.usgs.gov/software/precipitation-runoff-modeling-system-prms) (PRMS, Markstrom et al., 2015) and its role in GSFLOW (Markstrom et al., 2008). The goal of modernization is to make these legacy models more flexible as process representations, to support testing of alternative hydrologic process conceptualizations, and to facilitate the incorporation of cutting edge modeling techniques and data sources. Pywatershed is a place for experimentation with software design, process representation, and data fusion in the context of well-established hydrologic process modeling.\n",
    "\n",
    "For more information on the goals and status of `pywatershed`, please see the [pywatershed docs](https://pywatershed.readthedocs.io/en/main/)."
   ]
  },
  {
   "cell_type": "markdown",
   "id": "531db9ca-75e1-45ac-9baa-d8f3e06a02ef",
   "metadata": {},
   "source": [
    "## Prepare NHM subdomain for `pywatershed` run\n",
    "As development of `pywatershed` and extraction methods for NHM subdomain models continues, the NHM subdomain model input files and/or parameter files may need some modification to prepare the NHM subdomain model for `pywatershed`. In this section, tailored modification of model files can be made. Currently two modifications are needed."
   ]
  },
  {
   "cell_type": "markdown",
   "id": "f6d2664d-9fe0-48e2-ba4d-e6d80be0c55f",
   "metadata": {},
   "source": [
    "### Make `pywatershed` .nc input files from NHM domain input file (`cbh.nc`).\n",
    "The NHM subdomain model input was provided as one file, `cbh.nc`, that included tmin, tmax, and precipitation data. These data need to be split into individual files to be read by `pywatershed`."
   ]
  },
  {
   "cell_type": "code",
   "execution_count": null,
   "id": "51d85ea6-aa33-44ed-bcd7-c0ab01560572",
   "metadata": {},
   "outputs": [],
   "source": [
    "pws_prcp_input_file = model_dir / \"prcp.nc\"\n",
    "pws_tmin_input_file = model_dir / \"tmin.nc\"\n",
    "pws_tmax_input_file = model_dir / \"tmax.nc\"\n",
    "nhmx_input_file = model_dir / \"cbh_updated.nc\"\n",
    "input_file_path_list = [pws_prcp_input_file, pws_tmin_input_file, pws_tmax_input_file]\n",
    "\n",
    "for input_file_path in input_file_path_list:\n",
    "    if not input_file_path.exists():\n",
    "        con.print(\n",
    "            \"One or more of the pywatershed input files does not exist. All input file will be rewritten from the cbh.nc file.\"\n",
    "        )\n",
    "        with xr.open_dataset(\n",
    "            nhmx_input_file\n",
    "        ) as input:  # This is the input file given with NHMx\n",
    "            model_input = input.swap_dims({\"nhru\": \"nhm_id\"}).drop(\"nhru\")\n",
    "            prcp = getattr(model_input, \"prcp\")\n",
    "            tmin = getattr(model_input, \"tmin\")\n",
    "            tmax = getattr(model_input, \"tmax\")\n",
    "        prcp.to_netcdf(pws_prcp_input_file)\n",
    "        tmin.to_netcdf(pws_tmin_input_file)\n",
    "        tmax.to_netcdf(pws_tmax_input_file)\n",
    "        con.print(\n",
    "            f\"The pywatershed input file [bold]{pl.Path(input_file_path).stem}[/bold] was missing. All pywatershed input files were created in {model_dir} from the cbh.nc file.\"\n",
    "        )\n",
    "    else:\n",
    "        pass\n",
    "con.print(\n",
    "    f\"[bold][green]Optional:[/bold][/green] To recreate pywatershed input files in {model_dir}, delete [bold]prcp.nc[/bold], [bold]tmin.nc[/bold], and [bold]tmax.nc[/bold] files and re-run this notebook.\"\n",
    ")"
   ]
  },
  {
   "cell_type": "code",
   "execution_count": null,
   "id": "dbc3a9ab",
   "metadata": {},
   "outputs": [],
   "source": []
  },
  {
   "cell_type": "markdown",
   "id": "75626e0e-6c32-41d7-8a2d-402a32bf1d88",
   "metadata": {},
   "source": [
    "### Parameter file check\n",
    "`pywatershed` requires the soilzone variable \"pref_flow_infil_frac\" to be present in the parameter file. If the variable is not in the parameter file, it must be added as all zeros before passing the parameters to `pywatershed`."
   ]
  },
  {
   "cell_type": "code",
   "execution_count": null,
   "id": "6ad30ca5-4cc3-4884-a605-4da17d9f4de4",
   "metadata": {},
   "outputs": [],
   "source": [
    "params = pws.parameters.PrmsParameters.load(param_filename)\n",
    "if \"pref_flow_infil_frac\" not in params.parameters.keys():\n",
    "    # Parameter objects are not directly editable in pywatershed,\n",
    "    # so we export to an equivalent object we can edit, in this case\n",
    "    # an xarray dataset, then we convert back\n",
    "    params_ds = params.to_xr_ds()\n",
    "    params_ds[\"pref_flow_infil_frac\"] = params_ds.pref_flow_den[:] * 0.0\n",
    "    params = pws.parameters.PrmsParameters.from_ds(params_ds)"
   ]
  },
  {
   "cell_type": "markdown",
   "id": "a5e311ee-d072-4bb7-86a9-6445d8d4c88d",
   "metadata": {},
   "source": [
    "## Custom Run for NHM subdomain model\n",
    "The custom run loop will output the `pywatershed` standard output variables only and outputs each variable as a .nc file. The standard output variables, `selected_output_variables`, were selected in [notebook 0](.\\0_Workspace_setup.ipynb)."
   ]
  },
  {
   "cell_type": "code",
   "execution_count": null,
   "id": "5aa1a1a0-0ecf-4377-bce8-6826d7f8eb31",
   "metadata": {},
   "outputs": [],
   "source": [
    "control = pws.Control(\n",
    "    start_time=np.datetime64(\"1979-01-01\"),\n",
    "    end_time=np.datetime64(\"2024-12-31\"),\n",
    "    time_step=np.timedelta64(24, \"h\"),\n",
    ").load_prms(model_dir / control_file_name, warn_unused_options=False)\n",
    "# Sets control options for both cases\n",
    "control.options = control.options | {\n",
    "    \"input_dir\": model_dir,\n",
    "    \"budget_type\": None,\n",
    "    \"verbosity\": 0,\n",
    "    \"calc_method\": \"numba\",\n",
    "}\n",
    "\n",
    "control.options = control.options | {\n",
    "    \"netcdf_output_var_names\": selected_output_variables,\n",
    "    \"netcdf_output_dir\": out_dir,\n",
    "}\n",
    "\n",
    "model = pws.Model(\n",
    "    [\n",
    "        pws.PRMSSolarGeometry,\n",
    "        pws.PRMSAtmosphere,\n",
    "        pws.PRMSCanopy,\n",
    "        pws.PRMSSnow,\n",
    "        pws.PRMSRunoff,\n",
    "        pws.PRMSSoilzone,\n",
    "        pws.PRMSGroundwater,\n",
    "        pws.PRMSChannel,\n",
    "    ],\n",
    "    control=control,\n",
    "    parameters=params,\n",
    ")\n",
    "\n",
    "model.run()"
   ]
  },
  {
   "cell_type": "markdown",
   "id": "c1668dbb-68e1-477c-9a7c-777b19adbe63",
   "metadata": {},
   "source": [
    "### Create custom output variables from standard output variables.\n",
    "Below, we create a customized variable `hru_streamflow_out` from three other output variables. This variable represents each HRU's daily contribution to streamflow, and is useful when evaluating HRU water budgets."
   ]
  },
  {
   "cell_type": "code",
   "execution_count": null,
   "id": "93db62b9-d6e4-4bcd-8420-2793beb4ab38",
   "metadata": {},
   "outputs": [],
   "source": [
    "hru_streamflow_out = sum(\n",
    "    xr.load_dataarray(f\"{out_dir / ff}.nc\")\n",
    "    for ff in [\"sroff_vol\", \"ssres_flow_vol\", \"gwres_flow_vol\"]\n",
    ")\n",
    "hru_streamflow_out.to_netcdf(out_dir / \"hru_streamflow_out.nc\")\n",
    "del hru_streamflow_out"
   ]
  },
  {
   "cell_type": "markdown",
   "id": "9a43dbbd-77d4-46f1-b84d-a3a9139f6841",
   "metadata": {},
   "source": [
    "### Filter `seg_outflow` for only segments that have gages\n",
    "To reduce the size of the output file, seg_outflow is only written for segments that have gages in the model, and the output is dimensioned by gage id for utility in notebook [6_streamflow_output_visualization.ipynb](./6_streamflow_output_visualization.ipynb)."
   ]
  },
  {
   "cell_type": "code",
   "execution_count": null,
   "id": "e7c3c654-7af3-4f87-885a-c9c60c81392d",
   "metadata": {},
   "outputs": [],
   "source": [
    "# For streamflow, just keep output on the POIs.\n",
    "# - 1 is related to the indexing in fortran; made a a tuple see above\n",
    "wh_gages = (params.parameters[\"poi_gage_segment\"] - 1,)\n",
    "for var in [\"seg_outflow\"]:\n",
    "    data = xr.load_dataarray(f\"{out_dir / var}.nc\")[:, wh_gages[0]]\n",
    "    data = data.assign_coords(npoi_gages=(\"nhm_seg\", params.parameters[\"poi_gage_id\"]))\n",
    "    out_file = f\"{out_dir / var}.nc\"\n",
    "    data.to_netcdf(out_file)\n",
    "    del data"
   ]
  }
 ],
 "metadata": {
  "language_info": {
   "name": "python"
  }
 },
 "nbformat": 4,
 "nbformat_minor": 5
}
