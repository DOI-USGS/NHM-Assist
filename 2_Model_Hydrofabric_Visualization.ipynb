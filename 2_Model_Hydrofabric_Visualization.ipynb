{
 "cells": [
  {
   "cell_type": "code",
   "execution_count": null,
   "id": "84e9735f",
   "metadata": {},
   "outputs": [],
   "source": [
    "%run \"0a_Workspace_setup.ipynb\"\n",
    "# %run \"0b_Create_poi_files.ipynb\"\n",
    "\n",
    "from folium.features import DivIcon\n",
    "from NHM_helpers.NHM_hydrofabric import * #give list of names, not stars\n",
    "from NHM_helpers.map_template import * "
   ]
  },
  {
   "cell_type": "code",
   "execution_count": null,
   "id": "6c282872-a339-48e4-8644-28d587502c9f",
   "metadata": {},
   "outputs": [],
   "source": [
    "hru_gdf = create_hru_gdf(\n",
    "    NHM_dir,\n",
    "    model_dir,\n",
    "    GIS_format,\n",
    "    param_filename,\n",
    "    nhru_params,\n",
    "    nhru_nmonths_params,\n",
    ")\n",
    "\n",
    "seg_gdf = create_segment_gdf(\n",
    "    model_dir,\n",
    "    GIS_format,\n",
    "    param_filename,\n",
    ")\n",
    "\n",
    "nwis_gages_aoi = fetch_nwis_gage_info(\n",
    "    model_dir,\n",
    "    control_file_name,\n",
    "    nwis_gage_nobs_min,\n",
    "    hru_gdf,\n",
    ")\n",
    "\n",
    "poi_df = create_poi_df(\n",
    "    model_dir,\n",
    "    param_filename,\n",
    "    control_file_name,\n",
    "    hru_gdf,\n",
    "    nwis_gages_aoi,\n",
    "    gages_file,\n",
    ")\n",
    "\n",
    "default_gages_file = create_default_gages_file(\n",
    "    model_dir,\n",
    "    nwis_gages_aoi,\n",
    "    poi_df,\n",
    ")\n",
    "\n",
    "gages_df = read_gages_file(\n",
    "    model_dir,\n",
    "    poi_df,\n",
    "    nwis_gages_file,\n",
    "    gages_file,\n",
    ")"
   ]
  },
  {
   "cell_type": "markdown",
   "id": "21511ab5",
   "metadata": {},
   "source": [
    "## Set default aspects of maps"
   ]
  },
  {
   "cell_type": "markdown",
   "id": "71a1055f-acb7-4a40-bc0b-4e811b4d9680",
   "metadata": {},
   "source": [
    "### Set approximate latitude, longitude and zoom level for subbasin is calculated for starting point of folium.map plot window."
   ]
  },
  {
   "cell_type": "code",
   "execution_count": null,
   "id": "56aa5a3e-e612-493d-8e14-bb387c0fadab",
   "metadata": {},
   "outputs": [],
   "source": [
    "pfile_lat, pfile_lon, zoom, cluster_zoom = folium_map_elements(hru_gdf, poi_df, \"\")"
   ]
  },
  {
   "cell_type": "code",
   "execution_count": null,
   "id": "bd871179-dc80-435c-bcce-6c4f43986261",
   "metadata": {},
   "outputs": [],
   "source": [
    "USGSHydroCached_layer, USGStopo_layer, Esri_WorldImagery, OpenTopoMap = (\n",
    "    folium_map_tiles()\n",
    ")"
   ]
  },
  {
   "cell_type": "markdown",
   "id": "9a0defca-5c8e-44f2-9b82-112fff5781cf",
   "metadata": {},
   "source": [
    "### Set up inset map\n",
    "This requires folium plugins. (from folium import plugins)"
   ]
  },
  {
   "cell_type": "code",
   "execution_count": null,
   "id": "9a7eded9-e0b9-4acc-88c6-aa782f344c5b",
   "metadata": {},
   "outputs": [],
   "source": [
    "minimap = create_minimap()"
   ]
  },
  {
   "cell_type": "markdown",
   "id": "d1345278-14eb-410f-8486-60ad26230dea",
   "metadata": {},
   "source": [
    "### Create hydrofabric map objects"
   ]
  },
  {
   "cell_type": "code",
   "execution_count": null,
   "id": "105540e3-3213-4441-9da0-5934604d959e",
   "metadata": {},
   "outputs": [],
   "source": [
    "hru_map = create_hru_map(hru_gdf)\n",
    "seg_map_show = create_segment_map_show(seg_gdf)\n",
    "seg_map_hide = create_segment_map_hide(seg_gdf)"
   ]
  },
  {
   "cell_type": "markdown",
   "id": "cf91d2b3-f867-4df0-b017-e4371bf120ff",
   "metadata": {},
   "source": [
    "### Set poi (gages) mapping style"
   ]
  },
  {
   "cell_type": "code",
   "execution_count": null,
   "id": "9b229810-0825-4b79-9e8c-86ee189d1ec0",
   "metadata": {},
   "outputs": [],
   "source": [
    "poi_marker_cluster, poi_marker_cluster_label = create_poi_marker_cluster(\n",
    "    poi_df, cluster_zoom\n",
    ")"
   ]
  },
  {
   "cell_type": "code",
   "execution_count": null,
   "id": "9ea4b985-5b47-4a8e-bfd1-51a6d24389fd",
   "metadata": {},
   "outputs": [],
   "source": [
    "# isinstance(poi_marker_cluster_label, folium.plugins.MarkerCluster)"
   ]
  },
  {
   "cell_type": "markdown",
   "id": "3379e07d-1cf2-4f50-84f7-969a27e0387d",
   "metadata": {},
   "source": [
    "### Set non-poi (gages) mapping style"
   ]
  },
  {
   "cell_type": "code",
   "execution_count": null,
   "id": "66149bc3-2732-4ad3-911a-66c030a50a55",
   "metadata": {},
   "outputs": [],
   "source": [
    "non_poi_marker_cluster, non_poi_marker_cluster_label = create_non_poi_marker_cluster(\n",
    "    poi_df, nwis_gages_aoi, gages_df, cluster_zoom\n",
    ")"
   ]
  },
  {
   "cell_type": "markdown",
   "id": "4db74d32",
   "metadata": {},
   "source": [
    "## Create interactive HRU map"
   ]
  },
  {
   "cell_type": "code",
   "execution_count": null,
   "id": "2ca0667e",
   "metadata": {},
   "outputs": [],
   "source": [
    "from IPython.display import display\n",
    "from folium.plugins import MeasureControl\n",
    "\n",
    "m2 = folium.Map()\n",
    "m2 = folium.Map(\n",
    "    location=[pfile_lat, pfile_lon],\n",
    "    tiles=USGSHydroCached_layer,\n",
    "    zoom_start=zoom,\n",
    "    width=\"100%\",\n",
    "    height=\"100%\",\n",
    "    control_scale=True,\n",
    ")\n",
    "\n",
    "USGStopo_layer.add_to(m2)\n",
    "OpenTopoMap.add_to(m2)\n",
    "Esri_WorldImagery.add_to(m2)\n",
    "\n",
    "hru_map.add_to(m2)\n",
    "seg_map_show.add_to(m2)\n",
    "seg_map_hide.add_to(\n",
    "    m2\n",
    ")  # Tooltip is associated with this layer, and will also always be on top (last mapped).\n",
    "\n",
    "\n",
    "# Add tool tips to map\n",
    "# hru_map.add_child(tooltip_hru)\n",
    "# seg_map_hide.add_child(tooltip_seg)\n",
    "\n",
    "poi_marker_cluster.add_to(m2)\n",
    "poi_marker_cluster_label.add_to(m2)\n",
    "\n",
    "\n",
    "# Add tool tips to map\n",
    "# hru_map.add_child(tooltip_hru)\n",
    "# seg_map_hide.add_child(tooltip_seg)\n",
    "\n",
    "non_poi_marker_cluster.add_to(m2)\n",
    "non_poi_marker_cluster_label.add_to(m2)\n",
    "\n",
    "m2.add_child(minimap)\n",
    "m2.add_child(MeasureControl())\n",
    "\n",
    "plugins.Fullscreen(position=\"bottomleft\").add_to(m2)\n",
    "folium.LayerControl(collapsed=True, position=\"bottomright\").add_to(m2)\n",
    "\n",
    "##add Non-poi gage markers and labels using row df.interowss loop\n",
    "gages_list = gages_df.index.to_list()\n",
    "additional_gages = list(set(gages_list) - set(poi_df.poi_id))\n",
    "\n",
    "# display(m2)\n",
    "\n",
    "con.print(\n",
    "    f\"[underline]The {subbasin} Model Hydrofabric[/underline]\\n\",\n",
    "    f\"\\n{pdb.dimensions.get('nhru').meta['description']} (nhru), {pdb.dimensions.get('nhru').meta['size']}\",\n",
    "    f\"\\n{pdb.dimensions.get('nsegment').meta['description']} (nsegment), {pdb.dimensions.get('nsegment').meta['size']}\",\n",
    "    f\"\\n{pdb.dimensions.get('npoigages').meta['description']} (npoigages), {pdb.dimensions.get('npoigages').meta['size']}\",\n",
    "    f\"\\nNumber of Non-poi gages, {len(additional_gages)}\",\n",
    ")\n",
    "\n",
    "display(m2)"
   ]
  },
  {
   "cell_type": "code",
   "execution_count": null,
   "id": "0ccea4f3-14d8-49f9-b47b-264b8e4e5066",
   "metadata": {},
   "outputs": [],
   "source": []
  }
 ],
 "metadata": {
  "language_info": {
   "name": "python"
  }
 },
 "nbformat": 4,
 "nbformat_minor": 5
}
