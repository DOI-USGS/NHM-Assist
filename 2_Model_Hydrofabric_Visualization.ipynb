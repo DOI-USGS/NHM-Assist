{
 "cells": [
  {
   "cell_type": "code",
   "execution_count": null,
   "id": "84e9735f",
   "metadata": {},
   "outputs": [],
   "source": [
    "%run \"0_Workspace_setup.ipynb\"\n",
    "from NHM_helpers.NHM_hydrofabric import make_hf_map_elements, create_poi_df\n",
    "from NHM_helpers.map_template import make_hf_map\n",
    "import webbrowser\n",
    "(   hru_gdf,\n",
    "    hru_txt,\n",
    "    hru_cal_level_txt,\n",
    "    seg_gdf,\n",
    "    seg_txt,\n",
    "    nwis_gages_aoi,\n",
    "    poi_df,\n",
    "    gages_df,\n",
    "    gages_txt,\n",
    "    gages_txt_nb2,\n",
    "    HW_basins_gdf,\n",
    "    HW_basins,\n",
    ") = make_hf_map_elements(\n",
    "    NHM_dir,\n",
    "    model_dir,\n",
    "    GIS_format,\n",
    "    param_filename,\n",
    "    control_file_name,\n",
    "    nwis_gages_file,\n",
    "    gages_file,\n",
    "    default_gages_file,\n",
    "    nhru_params,\n",
    "    nhru_nmonths_params,\n",
    "    nwis_gage_nobs_min,\n",
    ")\n",
    "con.print(\n",
    "    f\"{workspace_txt}\\n\",\n",
    "    f\"\\n{gages_txt}{seg_txt}{hru_txt}\",\n",
    "    f\"\\n     {hru_cal_level_txt}\\n\",\n",
    "    f\"\\n{gages_txt_nb2}\",\n",
    ")"
   ]
  },
  {
   "cell_type": "code",
   "execution_count": null,
   "id": "57359be0-4ddf-42b4-9168-48b50695486c",
   "metadata": {},
   "outputs": [],
   "source": [
    "# poi_df = create_poi_df(\n",
    "#     model_dir,\n",
    "#     param_filename,\n",
    "#     control_file_name,\n",
    "#     hru_gdf,\n",
    "#     gages_file,\n",
    "#     default_gages_file,\n",
    "#     nwis_gage_nobs_min,\n",
    "# )"
   ]
  },
  {
   "cell_type": "code",
   "execution_count": null,
   "id": "7860ced9-da52-4314-a7d0-a852501df4c4",
   "metadata": {},
   "outputs": [],
   "source": [
    "print(gages_file)"
   ]
  },
  {
   "cell_type": "code",
   "execution_count": null,
   "id": "981b533f-c1b0-436c-8d09-3ae4c643b20e",
   "metadata": {},
   "outputs": [],
   "source": []
  },
  {
   "cell_type": "markdown",
   "id": "4db74d32",
   "metadata": {},
   "source": [
    "## Make interactive map of hydrofabric elements: hrus, segments, and gages"
   ]
  },
  {
   "cell_type": "code",
   "execution_count": null,
   "id": "0ccea4f3-14d8-49f9-b47b-264b8e4e5066",
   "metadata": {},
   "outputs": [],
   "source": [
    "map_file = make_hf_map(\n",
    "    hru_gdf,\n",
    "    HW_basins_gdf,\n",
    "    HW_basins,\n",
    "    poi_df,\n",
    "    \"\",\n",
    "    seg_gdf,\n",
    "    nwis_gages_aoi,\n",
    "    gages_df,\n",
    "    html_maps_dir,\n",
    "    param_filename,\n",
    "    subbasin,\n",
    ")\n",
    "map_file_str = f\"{map_file}\"\n",
    "_ = webbrowser.open(map_file_str, new=2)"
   ]
  }
 ],
 "metadata": {
  "language_info": {
   "name": "python"
  }
 },
 "nbformat": 4,
 "nbformat_minor": 5
}
