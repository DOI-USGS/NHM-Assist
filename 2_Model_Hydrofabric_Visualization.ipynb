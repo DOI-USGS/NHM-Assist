{
 "cells": [
  {
   "cell_type": "code",
   "execution_count": null,
   "id": "84e9735f",
   "metadata": {},
   "outputs": [],
   "source": [
    "%run \"0_Workspace_setup.ipynb\"\n",
    "from NHM_helpers.NHM_hydrofabric import make_hf_map_elements, create_poi_df\n",
    "from NHM_helpers.map_template import make_hf_map\n",
    "import webbrowser\n",
    "(   hru_gdf,\n",
    "    hru_txt,\n",
    "    hru_cal_level_txt,\n",
    "    seg_gdf,\n",
    "    seg_txt,\n",
    "    nwis_gages_aoi,\n",
    "    poi_df,\n",
    "    gages_df,\n",
    "    gages_txt,\n",
    "    gages_txt_nb2,\n",
    "    HW_basins_gdf,\n",
    "    HW_basins,\n",
    ") = make_hf_map_elements(\n",
    "    NHM_dir,\n",
    "    model_dir,\n",
    "    GIS_format,\n",
    "    param_filename,\n",
    "    control_file_name,\n",
    "    nwis_gages_file,\n",
    "    gages_file,\n",
    "    default_gages_file,\n",
    "    nhru_params,\n",
    "    nhru_nmonths_params,\n",
    "    nwis_gage_nobs_min,\n",
    ")\n",
    "con.print(\n",
    "    f\"{workspace_txt}\\n\",\n",
    "    f\"\\n{gages_txt}{seg_txt}{hru_txt}\",\n",
    "    f\"\\n     {hru_cal_level_txt}\\n\",\n",
    "    f\"\\n{gages_txt_nb2}\",\n",
    ")"
   ]
  },
  {
   "cell_type": "markdown",
   "id": "669bf05a-a85d-4125-a442-75e16f4fbadb",
   "metadata": {},
   "source": [
    "## Introduction\n",
    "This notebook displays hydrofabric elements: hrus, streamflow segments, and gages both in the parameter file and additonal NWIS gages in the domain. Users can inspect hru to segment connections, segment routing order, and location of gages and associated segments."
   ]
  },
  {
   "cell_type": "markdown",
   "id": "4db74d32",
   "metadata": {},
   "source": [
    "## Make interactive map of hydrofabric elements"
   ]
  },
  {
   "cell_type": "code",
   "execution_count": null,
   "id": "0ccea4f3-14d8-49f9-b47b-264b8e4e5066",
   "metadata": {},
   "outputs": [],
   "source": [
    "map_file = make_hf_map(\n",
    "    hru_gdf,\n",
    "    HW_basins_gdf,\n",
    "    HW_basins,\n",
    "    poi_df,\n",
    "    \"\",\n",
    "    seg_gdf,\n",
    "    nwis_gages_aoi,\n",
    "    gages_df,\n",
    "    html_maps_dir,\n",
    "    param_filename,\n",
    "    subbasin,\n",
    ")\n",
    "map_file_str = f\"{map_file}\"\n",
    "_ = webbrowser.open(map_file_str, new=2)"
   ]
  }
 ],
 "metadata": {
  "language_info": {
   "name": "python"
  }
 },
 "nbformat": 4,
 "nbformat_minor": 5
}
