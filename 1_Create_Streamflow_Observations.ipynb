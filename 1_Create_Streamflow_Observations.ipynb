{
 "cells": [
  {
   "cell_type": "markdown",
   "id": "833dd193-a98b-4763-b9e1-ad6e0678d7dc",
   "metadata": {},
   "source": [
    "# Introduction"
   ]
  },
  {
   "cell_type": "markdown",
   "id": "f6496f06-33b0-4251-8c74-69ec4c0f746f",
   "metadata": {},
   "source": [
    "Critical in evaluation of the NHM model simulated flows is comparison to observed flows in the watershed. This notebook retrieves available streamflow observations from NWIS and two state agencies, the Oregon Water Resources Deparment (OWRD) and the Washington Departent of Ecology (ECY), combines these data sets into one streamflow obervations file and streanflow gage information and metadata, and write the database out as a netCDF file (.nc) to be used in Notebook \"6_Streamflow_Output_Visualization\" and other notebooks in NHM-Assist. A complete database of streamflow gages and observation in the model domain is nessessary to evaluate the NHM model and identify other gages that could be included in a model recalibration to improve the model performance.\n",
    "\n",
    "Three key facts about streamflow observations and the NHM must be reviewed.\n",
    "- Streamflow observations are NOT used when running PRMS or pywatershed. These data are meant for comparison of simulated output only.\n",
    "- The NHM DOES use streamflow observations from NWIS in the model calibration workflow (not the streamflow file).\n",
    "- Limited streamflow gage information is stored in the parameter file.\n",
    "\n",
    "The paramter file has  are dimensioned by npoigages and include :\n",
    "- poi_gage_id, the agency identification number\n",
    "- poi_gage_segment, model segment identification number (nhm_seg) on which the gage falls (1 gage/segment only),\n",
    "- poi_type, historically used, but not currently used.\n",
    "\n",
    "It is important to note that the gages in the parameter file are NOT a complete set of gages in the model domain, and NOT all used to calibrate the model. "
   ]
  },
  {
   "cell_type": "code",
   "execution_count": null,
   "id": "daaa55d1-68ef-4373-b5ea-bdce0726271b",
   "metadata": {},
   "outputs": [],
   "source": [
    "%run \"0_Workspace_setup.ipynb\"\n",
    "\n",
    "from NHM_helpers.sf_data_retrieval import *"
   ]
  },
  {
   "cell_type": "code",
   "execution_count": null,
   "id": "de7621ae-14c4-4e75-8853-2b271e5ed41a",
   "metadata": {},
   "outputs": [],
   "source": [
    "# Create hydrofabric map elements\n",
    "hru_gdf, hru_cal_level_txt = create_hru_gdf(\n",
    "    NHM_dir,\n",
    "    model_dir,\n",
    "    GIS_format,\n",
    "    param_filename,\n",
    "    nhru_params,\n",
    "    nhru_nmonths_params,\n",
    ")\n",
    "\n",
    "# seg_gdf = create_segment_gdf(\n",
    "#     model_dir,\n",
    "#     GIS_format,\n",
    "#     param_filename,\n",
    "# )\n",
    "\n",
    "nwis_gages_aoi = fetch_nwis_gage_info(\n",
    "    model_dir,\n",
    "    control_file_name,\n",
    "    nwis_gage_nobs_min,\n",
    "    hru_gdf,\n",
    ")\n",
    "\n",
    "poi_df = create_poi_df(\n",
    "    model_dir,\n",
    "    param_filename,\n",
    "    control_file_name,\n",
    "    hru_gdf,\n",
    "    nwis_gages_aoi,\n",
    "    gages_file,\n",
    ")\n",
    "\n",
    "default_gages_file = create_default_gages_file(\n",
    "    model_dir,\n",
    "    nwis_gages_aoi,\n",
    "    poi_df,\n",
    ")\n",
    "\n",
    "gages_df = read_gages_file(\n",
    "    model_dir,\n",
    "    poi_df,\n",
    "    nwis_gages_file,\n",
    "    gages_file,\n",
    ")"
   ]
  },
  {
   "cell_type": "code",
   "execution_count": null,
   "id": "e0551eb1-bf8e-4575-95b7-bf7315666dba",
   "metadata": {},
   "outputs": [],
   "source": [
    "crs = 4326\n",
    "\n",
    "# Make a list if the HUC2 region(s) the subbasin intersects for NWIS queries\n",
    "huc2_gdf = gpd.read_file(\"./data_dependencies/HUC2/HUC2.shp\").to_crs(crs)\n",
    "model_domain_regions = list((huc2_gdf.clip(hru_gdf).loc[:][\"huc2\"]).values)"
   ]
  },
  {
   "cell_type": "markdown",
   "id": "666f939a-733f-4828-8e0b-46a10755114b",
   "metadata": {},
   "source": [
    "# Retrieve daily streamflow data for gages in the gages file\n",
    "##### We will not use the list of gages in the model paramter file, but will use the gages lsited in the gages_file.csv. This will be useful later for adding gages to the model for further validation or calibration. Also, multiple gages cannot be associated with a single segment outflow in the parameter file. We want a streamflow data set that is more inclusive."
   ]
  },
  {
   "cell_type": "markdown",
   "id": "dd05df29-3f38-4714-a427-41a9cb4c56e8",
   "metadata": {},
   "source": [
    "## Retrieve available daily streamflow data from Oregon Water Resources Department\n",
    "#### https://apps.wrd.state.or.us/apps/sw/hydro_near_real_time/"
   ]
  },
  {
   "cell_type": "code",
   "execution_count": null,
   "id": "14d33aea-a7e0-4a63-a75f-ff8518e8fc16",
   "metadata": {},
   "outputs": [],
   "source": [
    "owrd_df = create_OR_sf_df(control, model_dir, output_netcdf_filename, hru_gdf, gages_df)"
   ]
  },
  {
   "cell_type": "markdown",
   "id": "4ec6b617-8bad-4e54-a751-4dee1a6957b5",
   "metadata": {},
   "source": [
    "## Retrieve availabale daily streamflow data from Washing Department of Ecology\n",
    "#### https://waecy.maps.arcgis.com/apps/Viewer/index.html?appid=832e254169e640fba6e117780e137e7b"
   ]
  },
  {
   "cell_type": "code",
   "execution_count": null,
   "id": "f9434224-4ba9-43e0-ab33-8fd7a4bd4964",
   "metadata": {},
   "outputs": [],
   "source": [
    "ecy_df = create_ecy_sf_df(control, model_dir, output_netcdf_filename, hru_gdf, gages_df)"
   ]
  },
  {
   "cell_type": "markdown",
   "id": "c8c1ebd2-1623-4350-993c-cb0ee666a377",
   "metadata": {},
   "source": [
    "## Retrieve availabale daily streamflow data from NWIS\n",
    "#### https://waterdata.usgs.gov/nwis/sw"
   ]
  },
  {
   "cell_type": "code",
   "execution_count": null,
   "id": "49b94419-ca10-4b11-82cb-1a4a1d743684",
   "metadata": {},
   "outputs": [],
   "source": [
    "NWIS_df = create_nwis_sf_df(control, model_dir, output_netcdf_filename, gages_df)"
   ]
  },
  {
   "cell_type": "markdown",
   "id": "f656dfc8-a21c-47c8-9d3c-b393248d66f8",
   "metadata": {},
   "source": [
    "# Create streamflow observations file with appended EFC values (sf_efc.nc)."
   ]
  },
  {
   "cell_type": "code",
   "execution_count": null,
   "id": "4d1e8205-8910-4df0-9ce3-a91be35122b4",
   "metadata": {},
   "outputs": [],
   "source": [
    "xr_streamflow = create_sf_efc_df(\n",
    "    output_netcdf_filename,\n",
    "    owrd_df,\n",
    "    ecy_df,\n",
    "    NWIS_df,\n",
    "    gages_df,\n",
    ")"
   ]
  },
  {
   "cell_type": "markdown",
   "id": "8a6a9c0d-8972-4143-a2d5-40a77fe295e5",
   "metadata": {},
   "source": [
    "## Check streamflow observations file: plot discharge and efc information for a selected gage."
   ]
  },
  {
   "cell_type": "code",
   "execution_count": null,
   "id": "ad3b73ff-8486-42d5-a2d6-abc680aadd53",
   "metadata": {},
   "outputs": [],
   "source": [
    "cpoi_id = xr_streamflow.poi_id.values[1]\n",
    "\n",
    "ds_sub = xr_streamflow.sel(poi_id=cpoi_id, time=slice(\"1980-10-01\", \"2022-12-31\"))\n",
    "ds_sub = ds_sub.to_dataframe()\n",
    "flow_col = \"discharge\""
   ]
  },
  {
   "cell_type": "code",
   "execution_count": null,
   "id": "facdefab-c24d-4b75-ba30-1fff6c66be8b",
   "metadata": {},
   "outputs": [],
   "source": [
    "plot_efc(ds_sub, flow_col)"
   ]
  },
  {
   "cell_type": "code",
   "execution_count": null,
   "id": "f0634e13-d764-4b53-8c08-7899b8e01d77",
   "metadata": {},
   "outputs": [],
   "source": [
    "plot_high_low(ds_sub, flow_col)"
   ]
  },
  {
   "cell_type": "code",
   "execution_count": null,
   "id": "4b04cd3a-a21a-4d1e-b2ef-94adbfad82f7",
   "metadata": {},
   "outputs": [],
   "source": []
  }
 ],
 "metadata": {
  "language_info": {
   "name": "python"
  }
 },
 "nbformat": 4,
 "nbformat_minor": 5
}
