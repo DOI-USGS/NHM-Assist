{
 "cells": [
  {
   "cell_type": "code",
   "execution_count": null,
   "id": "6a2adcb4-28b3-4849-9f40-1b283c91ae45",
   "metadata": {},
   "outputs": [],
   "source": [
    "%run \"0_workspace_setup.ipynb\""
   ]
  },
  {
   "cell_type": "code",
   "execution_count": null,
   "id": "12e75919-4cd0-4293-a2d5-f998d33db1f0",
   "metadata": {},
   "outputs": [],
   "source": [
    "from nhm_helpers.nhm_hydrofabric import make_hf_map_elements\n",
    "from nhm_helpers.map_template import make_par_map\n",
    "from nhm_helpers.nhm_assist_utilities import make_plots_par_vals\n",
    "from ipywidgets import widgets\n",
    "from IPython.display import display\n",
    "import webbrowser\n",
    "import os"
   ]
  },
  {
   "cell_type": "markdown",
   "id": "76d665f8-7b53-480b-aeb1-a9f215ab7c84",
   "metadata": {},
   "source": [
    "## Introduction\n",
    "The purpose of this notebook is create a map of HRU parameter values for a selected parameter. Parameters options are user-specified in [Notebook 0](.\\0_workspace_setup.ipynb). Additionally, plots showing HRU parameter values for gage catchments are created and embedded in the parameter map. If a parameter is dimensioned by nmonth, the user must choose to visualize a specific month or the mean monthly value. Mapping HRU parameter values can quickly show spatial patterns or biases in calibrated parameter values in the subdomain. Observed variability in parameter values can be helpful in understanding variability observed in mapped model output values ([notebook 5_hru_output_visualization.ipynb](./5_hru_output_visualization.ipynb)). Maps produced are saved for use outside of notebooks as .html files in `./\"subdomain model\"/notebook_output/html_maps`.\n",
    "\n",
    "The cell below reads the NHM subdomain model hydrofabric elements for mapping purposes using `make_hf_map_elements()` and writes general NHM subdomain model run and hydrofabric information."
   ]
  },
  {
   "cell_type": "code",
   "execution_count": null,
   "id": "82037e13-ec5c-4624-819e-4e89814b6bb4",
   "metadata": {},
   "outputs": [],
   "source": [
    "# Load domain hydrofabic elements\n",
    "(\n",
    "    hru_gdf,\n",
    "    hru_txt,\n",
    "    hru_cal_level_txt,\n",
    "    seg_gdf,\n",
    "    seg_txt,\n",
    "    nwis_gages_aoi,\n",
    "    poi_df,\n",
    "    gages_df,\n",
    "    gages_txt,\n",
    "    gages_txt_nb2,\n",
    "    HW_basins_gdf,\n",
    "    HW_basins,\n",
    ") = make_hf_map_elements(\n",
    "    NHM_dir,\n",
    "    model_dir,\n",
    "    GIS_format,\n",
    "    param_filename,\n",
    "    control_file_name,\n",
    "    nwis_gages_file,\n",
    "    gages_file,\n",
    "    default_gages_file,\n",
    "    nhru_params,\n",
    "    nhru_nmonths_params,\n",
    "    nwis_gage_nobs_min,\n",
    ")\n",
    "\n",
    "con.print(\n",
    "    f\"{workspace_txt}\\n\",\n",
    "    f\"\\n{gages_txt}{seg_txt}{hru_txt}\",\n",
    "    f\"\\n     {hru_cal_level_txt}\",\n",
    ")"
   ]
  },
  {
   "cell_type": "markdown",
   "id": "741ec210-d9e4-4fdb-bca7-0ff79d37f617",
   "metadata": {},
   "source": [
    "## Build HRU parameter plots\n",
    "The following cell creates HTML plots for all parameters listed in notebook [0_workspace_setup.ipynb](./0_workspace_setup.ipynb) for all HRUs in gage catchments. Plots are saved as .txt files in `.\\\"subdomain folder\"\\notebook_output\\Folium_maps`. These files (plots) are embedded in the interactive parameter map created below for each gage, see \"Make interactive map of selected parameter values in the NHM subdomain\"."
   ]
  },
  {
   "cell_type": "code",
   "execution_count": null,
   "id": "535e11ef-a0e2-424a-b553-7d4a3bf59f81",
   "metadata": {},
   "outputs": [],
   "source": [
    "make_plots_par_vals(\n",
    "    poi_df,\n",
    "    hru_gdf,\n",
    "    param_filename,\n",
    "    nhru_params,\n",
    "    nhru_nmonths_params,\n",
    "    Folium_maps_dir,\n",
    ")"
   ]
  },
  {
   "cell_type": "markdown",
   "id": "3b7d805c-2f65-45d6-b3c6-185a039291d7",
   "metadata": {},
   "source": [
    "## Select a parameter to display\n",
    "<font size=4>&#x270D;<font color='green'>**Enter Information:**</font> **Run the cell below. In the resulting drop-down box, select a parameter**."
   ]
  },
  {
   "cell_type": "code",
   "execution_count": null,
   "id": "b62bf0ce-6fdd-471a-b703-d763472f22e7",
   "metadata": {},
   "outputs": [],
   "source": [
    "cal_hru_params = nhru_params + nhru_nmonths_params\n",
    "par_sel = cal_hru_params[4]\n",
    "# sel_flag = False\n",
    "\n",
    "v = widgets.Dropdown(\n",
    "    options=cal_hru_params,\n",
    "    value=par_sel,\n",
    "    description=\"Select a parameter to view in plots:\",\n",
    ")\n",
    "\n",
    "\n",
    "def on_change(change):\n",
    "    global par_sel, sel_flag\n",
    "    if change[\"type\"] == \"change\" and change[\"name\"] == \"value\":\n",
    "        par_sel = v.value\n",
    "        # sel_flag = True\n",
    "\n",
    "\n",
    "v.observe(on_change)\n",
    "display(v)"
   ]
  },
  {
   "cell_type": "markdown",
   "id": "7fdc5e73-dcf9-42ba-b7dd-654898e655fc",
   "metadata": {},
   "source": [
    "&#x1F6D1;Once a parameter is selected above, <font color='green'>**select this cell**</font>, then go to the Jupyter toolbar and select <font color='green'>**Run > Run Selected Cell and All Below**</font>."
   ]
  },
  {
   "cell_type": "markdown",
   "id": "8e5ef17f-b83c-41a2-9440-67ce3b142915",
   "metadata": {},
   "source": [
    "<!-- &#x270D;<font color='green'>**Enter Information:**</font> **Run the cell below.** <br> If a dropdown box is displayed, the selected parameter (above) is dimensioned by month. Select a month from the dropdown box to display. Default selection is \"July\". -->"
   ]
  },
  {
   "cell_type": "code",
   "execution_count": null,
   "id": "7d4b322a-5d00-4020-b9cc-7838c51c8ddf",
   "metadata": {},
   "outputs": [],
   "source": [
    "mo_num_dict = {\n",
    "    \"January\": 1,\n",
    "    \"February\": 2,\n",
    "    \"March\": 3,\n",
    "    \"April\": 4,\n",
    "    \"May\": 5,\n",
    "    \"June\": 6,\n",
    "    \"July\": 7,\n",
    "    \"August\": 8,\n",
    "    \"September\": 9,\n",
    "    \"October\": 10,\n",
    "    \"November\": 11,\n",
    "    \"December\": 12,\n",
    "}\n",
    "\n",
    "mo_names = list(mo_num_dict.keys())\n",
    "\n",
    "mo_name = \"July\"  # set default value\n",
    "mo_sel = mo_num_dict[mo_name]\n",
    "\n",
    "try:\n",
    "    pdb.get(par_sel).dimensions[\"nmonths\"].size\n",
    "\n",
    "except KeyError:\n",
    "    con.print(f\"{par_sel} dimensioned by HRU only.\", style=\"bold green\")\n",
    "    mo_sel = None\n",
    "\n",
    "else:\n",
    "    con.print(\n",
    "        f\"The selected parameter {par_sel} (above) is dimensioned by month. Select a month to display from the dropdown box (below). Once a selection is made, select the cell below. Then go to the Jupyter toolbar and select [bold][green]Run > Run Selected Cell and All Below[/bold][/green]. Default month is July.\",\n",
    "    )\n",
    "\n",
    "    m = widgets.Dropdown(\n",
    "        options=mo_names,\n",
    "        value=mo_names[6],  # set default value\n",
    "        description=\"Select a month to display on the map:\",\n",
    "    )\n",
    "\n",
    "    def on_change(change):\n",
    "        global mo_sel, mo_name, mo_num_dict\n",
    "        if change[\"type\"] == \"change\" and change[\"name\"] == \"value\":\n",
    "            mo_name = m.value\n",
    "            mo_sel = mo_num_dict[mo_name]\n",
    "\n",
    "    m.observe(on_change)\n",
    "\n",
    "    display(m)"
   ]
  },
  {
   "cell_type": "markdown",
   "id": "504f9f1d-d07f-4fe1-a08c-09cd491c60b8",
   "metadata": {},
   "source": [
    "## Make interactive map for the selected parameter\n",
    "The following cell creates a map that displays the selected parameter's values for HRUs in the NHM subdomain model. Additionally, plots of HRU values for gage catchments are embedded in the map, and are viewed by left-clicking on a gage icon. Discrete parameter values for each HRU and additional HRU information can be viewed by left-clicking on HRUs. Maps produced are saved for use outside of notebooks as .html files in `./\"subdomain model\"/notebook_output/html_maps`."
   ]
  },
  {
   "cell_type": "code",
   "execution_count": null,
   "id": "7f376419-c226-4eef-9a15-6039830872d5",
   "metadata": {},
   "outputs": [],
   "source": [
    "map_file = make_par_map(\n",
    "    hru_gdf,\n",
    "    HW_basins,\n",
    "    poi_df,\n",
    "    par_sel,\n",
    "    mo_sel,\n",
    "    mo_name,\n",
    "    nhru_params,\n",
    "    Folium_maps_dir,\n",
    "    seg_gdf,\n",
    "    html_maps_dir,\n",
    "    param_filename,\n",
    "    subdomain,\n",
    ")\n",
    "\n",
    "map_file_str = f\"{map_file}\"\n",
    "# if running in Nebari, print url to open map, else use webbrowser to have map popup directly\n",
    "if \"NEBARI_CONDA_STORE_SERVER_SERVICE_HOST\" in os.environ:\n",
    "   full_url = (\n",
    "       f\"https://nebari.chs.usgs.gov/user/{os.environ['JUPYTERHUB_USER']}/files/\"\n",
    "       + map_file_str\n",
    "   )\n",
    "\n",
    "   print(f\"Open your map: {full_url}\")\n",
    "else:\n",
    "   _ = webbrowser.open(map_file_str, new=2)"
   ]
  }
 ],
 "metadata": {
  "language_info": {
   "name": "python"
  }
 },
 "nbformat": 4,
 "nbformat_minor": 5
}
