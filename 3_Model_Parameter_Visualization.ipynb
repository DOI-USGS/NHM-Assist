{
 "cells": [
  {
   "cell_type": "code",
   "execution_count": null,
   "id": "12e75919-4cd0-4293-a2d5-f998d33db1f0",
   "metadata": {},
   "outputs": [],
   "source": [
    "%run \"0a_Workspace_setup.ipynb\"\n",
    "# %run \"0b_Create_poi_files.ipynb\"\n",
    "\n",
    "from NHM_helpers.NHM_helpers import hrus_by_poi, hrus_by_seg, subset_stream_network\n",
    "from NHM_helpers.map_template import *\n",
    "from NHM_helpers.NHM_Assist_utilities import make_plots_par_vals"
   ]
  },
  {
   "cell_type": "code",
   "execution_count": null,
   "id": "e23a7756-1594-4126-8a5d-fc1e7c775e0c",
   "metadata": {},
   "outputs": [],
   "source": [
    "# Create dataframes for hydrofabric elements\n",
    "hru_gdf = create_hru_gdf(\n",
    "    model_dir,\n",
    "    GIS_format,\n",
    "    param_filename,\n",
    "    nhru_params,\n",
    "    nhru_nmonths_params,\n",
    ")\n",
    "\n",
    "seg_gdf = create_segment_gdf(\n",
    "    model_dir,\n",
    "    GIS_format,\n",
    "    param_filename,\n",
    ")\n",
    "\n",
    "nwis_gages_aoi = fetch_nwis_gage_info(\n",
    "    model_dir,\n",
    "    control_file_name,\n",
    "    nwis_gage_nobs_min,\n",
    "    hru_gdf,\n",
    ")\n",
    "\n",
    "poi_df = create_poi_df(\n",
    "    model_dir,\n",
    "    param_filename,\n",
    "    control_file_name,\n",
    "    hru_gdf,\n",
    "    nwis_gages_aoi,\n",
    "    gages_file,\n",
    ")\n",
    "\n",
    "default_gages_file = create_default_gages_file(\n",
    "    model_dir,\n",
    "    nwis_gages_aoi,\n",
    "    poi_df,\n",
    ")\n",
    "\n",
    "gages_df = read_gages_file(\n",
    "    model_dir,\n",
    "    poi_df,\n",
    "    nwis_gages_file,\n",
    "    gages_file,\n",
    ")"
   ]
  },
  {
   "cell_type": "markdown",
   "id": "741ec210-d9e4-4fdb-bca7-0ff79d37f617",
   "metadata": {
    "jp-MarkdownHeadingCollapsed": true
   },
   "source": [
    "## Build plots at each POI that show par values of contributing HRUs"
   ]
  },
  {
   "cell_type": "code",
   "execution_count": null,
   "id": "535e11ef-a0e2-424a-b553-7d4a3bf59f81",
   "metadata": {},
   "outputs": [],
   "source": [
    "make_plots_par_vals(\n",
    "    poi_df,\n",
    "    hru_gdf,\n",
    "    param_filename,\n",
    "    nhru_params,\n",
    "    nhru_nmonths_params,\n",
    "    Folium_maps_dir,\n",
    ")"
   ]
  },
  {
   "cell_type": "markdown",
   "id": "7cdac0c0-0786-415a-8a2d-7dbebdd3aebc",
   "metadata": {},
   "source": [
    "## Now select a parameter to view on the map"
   ]
  },
  {
   "cell_type": "code",
   "execution_count": null,
   "id": "b62bf0ce-6fdd-471a-b703-d763472f22e7",
   "metadata": {},
   "outputs": [],
   "source": [
    "from ipywidgets import widgets\n",
    "\n",
    "cal_hru_params = nhru_params + nhru_nmonths_params\n",
    "\n",
    "par_sel = cal_hru_params[0]\n",
    "# sel_flag = False\n",
    "\n",
    "v = widgets.Dropdown(\n",
    "    options=cal_hru_params,\n",
    "    value=cal_hru_params[0],\n",
    "    description=\"Select a parameter to view in plots:\",\n",
    ")\n",
    "\n",
    "\n",
    "def on_change(change):\n",
    "    global par_sel, sel_flag\n",
    "    if change[\"type\"] == \"change\" and change[\"name\"] == \"value\":\n",
    "        par_sel = v.value\n",
    "        # sel_flag = True\n",
    "\n",
    "\n",
    "v.observe(on_change)\n",
    "\n",
    "display(v)"
   ]
  },
  {
   "cell_type": "markdown",
   "id": "7fdc5e73-dcf9-42ba-b7dd-654898e655fc",
   "metadata": {},
   "source": [
    "### After selecting from the dropdown above, click here, then go to Run in the Menu"
   ]
  },
  {
   "cell_type": "code",
   "execution_count": null,
   "id": "7d4b322a-5d00-4020-b9cc-7838c51c8ddf",
   "metadata": {},
   "outputs": [],
   "source": [
    "mo_num_dict = {\n",
    "    \"January\": 1,\n",
    "    \"February\": 2,\n",
    "    \"March\": 3,\n",
    "    \"April\": 4,\n",
    "    \"May\": 5,\n",
    "    \"June\": 6,\n",
    "    \"July\": 7,\n",
    "    \"August\": 8,\n",
    "    \"September\": 9,\n",
    "    \"October\": 10,\n",
    "    \"November\": 11,\n",
    "    \"December\": 12,\n",
    "}\n",
    "\n",
    "mo_names = list(mo_num_dict.keys())\n",
    "\n",
    "mo_name = \"July\"  # set default value\n",
    "mo_sel = mo_num_dict[mo_name]\n",
    "\n",
    "try:\n",
    "    pdb.get(par_sel).dimensions[\"nmonths\"].size\n",
    "\n",
    "except:\n",
    "    print(f\"{par_sel} dimensioned by nhru only.\")\n",
    "    mo_sel = None\n",
    "\n",
    "else:\n",
    "    print(f\"{par_sel} dimensioned by nhru and nmonths. Please select a month below.\")\n",
    "    # mo_name = \"July\"  # set default value\n",
    "    # mo_sel = mo_num_dict[mo_name]\n",
    "\n",
    "    m = widgets.Dropdown(\n",
    "        options=mo_names,\n",
    "        value=mo_names[6],  # set default value\n",
    "        description=\"Select a month to display on the map:\",\n",
    "    )\n",
    "\n",
    "    def on_change(change):\n",
    "        global mo_sel, mo_name, mo_num_dict\n",
    "        if change[\"type\"] == \"change\" and change[\"name\"] == \"value\":\n",
    "            mo_name = m.value\n",
    "            mo_sel = mo_num_dict[mo_name]\n",
    "\n",
    "    m.observe(on_change)\n",
    "\n",
    "    display(m)"
   ]
  },
  {
   "cell_type": "markdown",
   "id": "4572fc51-f26c-4d66-8f00-2b4e48d16203",
   "metadata": {},
   "source": [
    "### After selecting from the dropdown above, click here, then go to Run in the Menu"
   ]
  },
  {
   "cell_type": "markdown",
   "id": "3792e8d1-bf5b-4779-a23b-9829b888dd55",
   "metadata": {},
   "source": [
    "## Map selected parameter value for HRUs"
   ]
  },
  {
   "cell_type": "markdown",
   "id": "21511ab5",
   "metadata": {
    "jp-MarkdownHeadingCollapsed": true
   },
   "source": [
    "### Set default aspects of maps"
   ]
  },
  {
   "cell_type": "code",
   "execution_count": null,
   "id": "cf39be20-0d63-4aa9-85fb-d8d5f6bb6e0e",
   "metadata": {},
   "outputs": [],
   "source": [
    "pfile_lat, pfile_lon, zoom, cluster_zoom = folium_map_elements(hru_gdf)"
   ]
  },
  {
   "cell_type": "code",
   "execution_count": null,
   "id": "0b29c87c-b63e-465d-824e-23301ab0d16e",
   "metadata": {},
   "outputs": [],
   "source": [
    "USGSHydroCached_layer, USGStopo_layer, Esri_WorldImagery, OpenTopoMap = (\n",
    "    folium_map_tiles()\n",
    ")"
   ]
  },
  {
   "cell_type": "code",
   "execution_count": null,
   "id": "ae984916-20cc-4d73-aa1b-a0c39eeefe94",
   "metadata": {},
   "outputs": [],
   "source": [
    "minimap = create_minimap()"
   ]
  },
  {
   "cell_type": "markdown",
   "id": "504f9f1d-d07f-4fe1-a08c-09cd491c60b8",
   "metadata": {},
   "source": [
    "### Create map"
   ]
  },
  {
   "cell_type": "code",
   "execution_count": null,
   "id": "37949f68-b1b4-4e98-b921-374ddca0c4a8",
   "metadata": {},
   "outputs": [],
   "source": [
    "from IPython.display import display\n",
    "from folium.plugins import MeasureControl\n",
    "\n",
    "m3 = folium.Map()\n",
    "\n",
    "m3 = folium.Map(\n",
    "    location=[pfile_lat, pfile_lon],\n",
    "    # width=1000, height=600,\n",
    "    tiles=USGSHydroCached_layer,\n",
    "    zoom_start=zoom,\n",
    "    control_scale=True,\n",
    ")\n",
    "\n",
    "USGStopo_layer.add_to(m3)\n",
    "OpenTopoMap.add_to(m3)\n",
    "Esri_WorldImagery.add_to(m3)\n",
    "\n",
    "m3.add_child(minimap)\n",
    "m3.add_child(MeasureControl())\n",
    "\n",
    "fig, hru_map, value_min, value_max = nhru_par_map(\n",
    "    param_filename,\n",
    "    hru_gdf,\n",
    "    par_sel,\n",
    "    mo_sel,\n",
    "    mo_name,\n",
    "    nhru_params,\n",
    ")\n",
    "# fig.show()\n",
    "marker_cluster_label_hru = create_hru_label(hru_gdf, cluster_zoom)\n",
    "marker_cluster, marker_cluster_label_poi = create_poi_paramplot_marker_cluster(\n",
    "    poi_df,\n",
    "    hru_gdf,\n",
    "    Folium_maps_dir,\n",
    "    cluster_zoom,\n",
    "    par_sel,\n",
    ")\n",
    "\n",
    "hru_map.add_to(m3)\n",
    "\n",
    "seg_map = create_segment_map_show(seg_gdf)\n",
    "seg_map.add_to(m3)\n",
    "marker_cluster.add_to(m3)\n",
    "marker_cluster_label_poi.add_to(m3)\n",
    "marker_cluster_label_hru.add_to(m3)\n",
    "\n",
    "plugins.Fullscreen(position=\"topleft\").add_to(m3)\n",
    "folium.LayerControl(collapsed=True, position=\"bottomright\", autoZIndex=True).add_to(m3)\n",
    "\n",
    "if mo_sel is None:\n",
    "    con.print(\n",
    "        f\"[underline]NHM parameter {par_sel}[/underline]\\n\",\n",
    "        f\"{pdb.get(par_sel).meta['help']}.\",\n",
    "    )\n",
    "else:\n",
    "    con.print(\n",
    "        f\"[underline]NHM parameter {par_sel}[/underline]\\n\",\n",
    "        f\"{pdb.get(par_sel).meta['help']}.\\n\",\n",
    "        f\"The {par_sel} is a monthly parameter; map is displaying {mo_name} values.\",\n",
    "    )\n",
    "if value_min == value_max:\n",
    "    con.print(\n",
    "        f\"{par_sel} for HRUs does not vary and has a value of {np.round(value_min,3)}\",\n",
    "    )\n",
    "\n",
    "fig.show()\n",
    "display(m3)"
   ]
  },
  {
   "cell_type": "code",
   "execution_count": null,
   "id": "6e1b4b17-cb90-4ab9-b480-8299026774e8",
   "metadata": {},
   "outputs": [],
   "source": []
  }
 ],
 "metadata": {
  "language_info": {
   "name": "python"
  }
 },
 "nbformat": 4,
 "nbformat_minor": 5
}
