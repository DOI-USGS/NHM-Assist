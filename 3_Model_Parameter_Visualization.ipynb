{
 "cells": [
  {
   "cell_type": "code",
   "execution_count": null,
   "id": "12e75919-4cd0-4293-a2d5-f998d33db1f0",
   "metadata": {},
   "outputs": [],
   "source": [
    "%run \"0_Workspace_setup.ipynb\"\n",
    "\n",
    "from ipywidgets import widgets\n",
    "\n",
    "from NHM_helpers.NHM_helpers import hrus_by_poi, hrus_by_seg, subset_stream_network\n",
    "from NHM_helpers.NHM_hydrofabric import make_hf_map_elements\n",
    "\n",
    "from NHM_helpers.map_template import *\n",
    "from NHM_helpers.NHM_Assist_utilities import make_plots_par_vals\n",
    "import webbrowser"
   ]
  },
  {
   "cell_type": "code",
   "execution_count": null,
   "id": "82037e13-ec5c-4624-819e-4e89814b6bb4",
   "metadata": {},
   "outputs": [],
   "source": [
    "(\n",
    "    hru_gdf,\n",
    "    hru_txt,\n",
    "    hru_cal_level_txt,\n",
    "    seg_gdf,\n",
    "    seg_txt,\n",
    "    nwis_gages_aoi,\n",
    "    poi_df,\n",
    "    default_gages_file,\n",
    "    gages_df,\n",
    "    gages_txt,\n",
    "    _,\n",
    "    HW_basins_gdf,\n",
    "    HW_basins,\n",
    ") = make_hf_map_elements(\n",
    "    NHM_dir,\n",
    "    model_dir,\n",
    "    GIS_format,\n",
    "    param_filename,\n",
    "    control_file_name,\n",
    "    nwis_gages_file,\n",
    "    gages_file,\n",
    "    nhru_params,\n",
    "    nhru_nmonths_params,\n",
    "    nwis_gage_nobs_min,\n",
    ")\n",
    "\n",
    "con.print(\n",
    "    f\"{workspace_txt}\\n\",\n",
    "    f\"\\n{gages_txt}{seg_txt}{hru_txt}\",\n",
    "    f\"\\n     {hru_cal_level_txt}\",\n",
    ")"
   ]
  },
  {
   "cell_type": "markdown",
   "id": "741ec210-d9e4-4fdb-bca7-0ff79d37f617",
   "metadata": {},
   "source": [
    "## Build plots at each POI that show par values of contributing HRUs"
   ]
  },
  {
   "cell_type": "code",
   "execution_count": null,
   "id": "535e11ef-a0e2-424a-b553-7d4a3bf59f81",
   "metadata": {},
   "outputs": [],
   "source": [
    "make_plots_par_vals(\n",
    "    poi_df,\n",
    "    hru_gdf,\n",
    "    param_filename,\n",
    "    nhru_params,\n",
    "    nhru_nmonths_params,\n",
    "    Folium_maps_dir,\n",
    ")"
   ]
  },
  {
   "cell_type": "markdown",
   "id": "7cdac0c0-0786-415a-8a2d-7dbebdd3aebc",
   "metadata": {},
   "source": [
    "#### &#x270D;<font color='green'>**Enter Information:**</font> **Select a parameter to view below**. \n",
    "> These parameters are dimensioned **by hru**, or **by hru and by months**."
   ]
  },
  {
   "cell_type": "code",
   "execution_count": null,
   "id": "b62bf0ce-6fdd-471a-b703-d763472f22e7",
   "metadata": {},
   "outputs": [],
   "source": [
    "cal_hru_params = nhru_params + nhru_nmonths_params\n",
    "\n",
    "par_sel = cal_hru_params[4]\n",
    "# sel_flag = False\n",
    "\n",
    "v = widgets.Dropdown(\n",
    "    options=cal_hru_params,\n",
    "    value=cal_hru_params[0],\n",
    "    description=\"Select a parameter to view in plots:\",\n",
    ")\n",
    "\n",
    "\n",
    "def on_change(change):\n",
    "    global par_sel, sel_flag\n",
    "    if change[\"type\"] == \"change\" and change[\"name\"] == \"value\":\n",
    "        par_sel = v.value\n",
    "        # sel_flag = True\n",
    "\n",
    "\n",
    "v.observe(on_change)\n",
    "\n",
    "display(v)"
   ]
  },
  {
   "cell_type": "markdown",
   "id": "7fdc5e73-dcf9-42ba-b7dd-654898e655fc",
   "metadata": {},
   "source": [
    "#### &#x1F6D1;If new selections are made above,\n",
    "><font color='green'>**select this cell**</font>, then select <font color='green'>**Run Selected Cell and All Below**</font> from the Run menu in the toolbar."
   ]
  },
  {
   "cell_type": "markdown",
   "id": "8e5ef17f-b83c-41a2-9440-67ce3b142915",
   "metadata": {},
   "source": [
    "#### &#x270D;<font color='green'>**Enter Information:**</font> **Select a month. Default setting is \"July\"**. \n",
    "> "
   ]
  },
  {
   "cell_type": "code",
   "execution_count": null,
   "id": "7d4b322a-5d00-4020-b9cc-7838c51c8ddf",
   "metadata": {},
   "outputs": [],
   "source": [
    "mo_num_dict = {\n",
    "    \"January\": 1,\n",
    "    \"February\": 2,\n",
    "    \"March\": 3,\n",
    "    \"April\": 4,\n",
    "    \"May\": 5,\n",
    "    \"June\": 6,\n",
    "    \"July\": 7,\n",
    "    \"August\": 8,\n",
    "    \"September\": 9,\n",
    "    \"October\": 10,\n",
    "    \"November\": 11,\n",
    "    \"December\": 12,\n",
    "}\n",
    "\n",
    "mo_names = list(mo_num_dict.keys())\n",
    "\n",
    "mo_name = \"July\"  # set default value\n",
    "mo_sel = mo_num_dict[mo_name]\n",
    "\n",
    "try:\n",
    "    pdb.get(par_sel).dimensions[\"nmonths\"].size\n",
    "\n",
    "except:\n",
    "    print(f\"{par_sel} dimensioned by hru only.\")\n",
    "    mo_sel = None\n",
    "\n",
    "else:\n",
    "    print(f\"{par_sel} dimensioned by hru and months. Please select a month below.\")\n",
    "    # mo_name = \"July\"  # set default value\n",
    "    # mo_sel = mo_num_dict[mo_name]\n",
    "\n",
    "    m = widgets.Dropdown(\n",
    "        options=mo_names,\n",
    "        value=mo_names[6],  # set default value\n",
    "        description=\"Select a month to display on the map:\",\n",
    "    )\n",
    "\n",
    "    def on_change(change):\n",
    "        global mo_sel, mo_name, mo_num_dict\n",
    "        if change[\"type\"] == \"change\" and change[\"name\"] == \"value\":\n",
    "            mo_name = m.value\n",
    "            mo_sel = mo_num_dict[mo_name]\n",
    "\n",
    "    m.observe(on_change)\n",
    "\n",
    "    display(m)"
   ]
  },
  {
   "cell_type": "markdown",
   "id": "4572fc51-f26c-4d66-8f00-2b4e48d16203",
   "metadata": {},
   "source": [
    "#### &#x1F6D1;If new selections are made above,\n",
    "><font color='green'>**select this cell**</font>, then select <font color='green'>**Run Selected Cell and All Below**</font> from the Run menu in the toolbar."
   ]
  },
  {
   "cell_type": "markdown",
   "id": "504f9f1d-d07f-4fe1-a08c-09cd491c60b8",
   "metadata": {},
   "source": [
    "## Make interactive map of selected parameter values in the NHM domain"
   ]
  },
  {
   "cell_type": "code",
   "execution_count": null,
   "id": "7f376419-c226-4eef-9a15-6039830872d5",
   "metadata": {},
   "outputs": [],
   "source": [
    "map_file = make_par_map(\n",
    "    hru_gdf,\n",
    "    HW_basins_gdf,\n",
    "    HW_basins,\n",
    "    poi_df,\n",
    "    _,\n",
    "    par_sel,\n",
    "    mo_sel,\n",
    "    mo_name,\n",
    "    nhru_params,\n",
    "    Folium_maps_dir,\n",
    "    seg_gdf,\n",
    "    nwis_gages_aoi,\n",
    "    gages_df,\n",
    "    html_maps_dir,\n",
    "    param_filename,\n",
    "    subbasin,\n",
    ")\n",
    "\n",
    "map_file_str =f\"{map_file}\"\n",
    "_ = webbrowser.open(map_file_str, new=2)"
   ]
  }
 ],
 "metadata": {
  "language_info": {
   "name": "python"
  }
 },
 "nbformat": 4,
 "nbformat_minor": 5
}
