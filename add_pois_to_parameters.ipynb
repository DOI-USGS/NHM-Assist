{
 "cells": [
  {
   "cell_type": "code",
   "execution_count": null,
   "id": "3f6591a4-ee88-48a2-bbdb-8db66043bfc9",
   "metadata": {},
   "outputs": [],
   "source": [
    "%run \"0_workspace_setup.ipynb\""
   ]
  },
  {
   "cell_type": "code",
   "execution_count": null,
   "id": "e638073d-124c-47c2-88f9-7d74bb6a3b39",
   "metadata": {},
   "outputs": [],
   "source": [
    "from nhm_helpers.nhm_hydrofabric import make_hf_map_elements\n",
    "from nhm_helpers.map_template import make_par_map\n",
    "from nhm_helpers.nhm_assist_utilities import (\n",
    "    make_plots_par_vals,\n",
    "    create_append_gages_to_param_file,\n",
    "    make_myparam_addl_gages_param_file,\n",
    ")\n",
    "from nhm_helpers.nhm_helpers import *\n",
    "from ipywidgets import widgets\n",
    "from IPython.display import display\n",
    "\n",
    "# Import Notebook Packages\n",
    "import numpy as np\n",
    "import geopandas as gpd\n",
    "from shapely.geometry import Point, LineString\n",
    "import warnings\n",
    "from collections.abc import KeysView\n",
    "import networkx as nx\n",
    "from pyPRMS import ParameterFile\n",
    "from pyPRMS.metadata.metadata import MetaData\n",
    "from rich import pretty\n",
    "\n",
    "pretty.install()\n",
    "warnings.filterwarnings(\"ignore\")"
   ]
  },
  {
   "cell_type": "code",
   "execution_count": null,
   "id": "f8c26a57-d55d-4164-b8d0-1d0d1e45f1e4",
   "metadata": {},
   "outputs": [],
   "source": [
    "(\n",
    "    hru_gdf,\n",
    "    hru_txt,\n",
    "    hru_cal_level_txt,\n",
    "    seg_gdf,\n",
    "    seg_txt,\n",
    "    nwis_gages_aoi,\n",
    "    poi_df,\n",
    "    gages_df,\n",
    "    gages_txt,\n",
    "    gages_txt_nb2,\n",
    "    HW_basins_gdf,\n",
    "    HW_basins,\n",
    ") = make_hf_map_elements(\n",
    "    NHM_dir,\n",
    "    model_dir,\n",
    "    GIS_format,\n",
    "    param_filename,\n",
    "    control_file_name,\n",
    "    nwis_gages_file,\n",
    "    gages_file,\n",
    "    default_gages_file,\n",
    "    nhru_params,\n",
    "    nhru_nmonths_params,\n",
    "    nwis_gage_nobs_min,\n",
    ")\n",
    "con.print(\n",
    "    f\"{workspace_txt}\\n\",\n",
    "    f\"\\n{gages_txt}{seg_txt}{hru_txt}\",\n",
    "    f\"\\n     {hru_cal_level_txt}\\n\",\n",
    "    f\"\\n{gages_txt_nb2}\",\n",
    ")"
   ]
  },
  {
   "cell_type": "markdown",
   "id": "139e5529-7bf3-45a4-a14b-aa4a1b6fa1c5",
   "metadata": {},
   "source": [
    "## Run the cell below makes a .csv file that is used to select additional gages to append the paramter file."
   ]
  },
  {
   "cell_type": "code",
   "execution_count": null,
   "id": "e3d751ad-2746-4e48-a572-c8782bed240b",
   "metadata": {},
   "outputs": [],
   "source": [
    "create_append_gages_to_param_file(\n",
    "    gages_df,\n",
    "    seg_gdf,\n",
    "    poi_df,\n",
    "    model_dir,\n",
    ")"
   ]
  },
  {
   "cell_type": "markdown",
   "id": "329a66c1-b50d-4fc8-8868-3b18c09fa508",
   "metadata": {},
   "source": [
    "## Run the cell below to add the gages listed in the additional gages to append .csv file to the parameter file."
   ]
  },
  {
   "cell_type": "code",
   "execution_count": null,
   "id": "c82deb56-3741-480d-973f-4d98418ef9ea",
   "metadata": {},
   "outputs": [],
   "source": [
    "make_myparam_addl_gages_param_file(\n",
    "    model_dir,\n",
    "    pdb,\n",
    ")"
   ]
  },
  {
   "cell_type": "markdown",
   "id": "369abc1e-62ac-4275-a185-b7208f3f43ec",
   "metadata": {},
   "source": [
    "## To view thhe model with the new parameter file, update the `param_file` in [0_workspace_setup](./0_workspace_setup.ipynb). We strongly recommend renaming the new parameter file, delete the `notebook_output_files` folder in the model directory and delete the `output` folder in the model directory. Then, rerun all notebooks."
   ]
  },
  {
   "cell_type": "code",
   "execution_count": null,
   "id": "630d3832-5c4c-4aa7-a822-55df3d940c70",
   "metadata": {},
   "outputs": [],
   "source": []
  }
 ],
 "metadata": {
  "language_info": {
   "name": "python"
  }
 },
 "nbformat": 4,
 "nbformat_minor": 5
}
