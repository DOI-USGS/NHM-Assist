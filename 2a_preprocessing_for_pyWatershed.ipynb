{
 "cells": [
  {
   "cell_type": "code",
   "execution_count": null,
   "id": "9ef7d162-0193-436c-b51b-adb0143dd0c9",
   "metadata": {},
   "outputs": [],
   "source": [
    "%run \"0a_Workspace_setup.ipynb\""
   ]
  },
  {
   "cell_type": "code",
   "execution_count": null,
   "id": "0d2d44bc-f1e0-4200-ba46-000e179b3a61",
   "metadata": {},
   "outputs": [],
   "source": [
    "# Check for input in correct format for PyWatershed:\n",
    "pws_prcp_input_file = model_dir / 'prcp.nc'\n",
    "pws_tmin_input_file = model_dir / 'tmin.nc'\n",
    "pws_tmax_input_file = model_dir / 'tmax.nc'\n",
    "\n",
    "nhmx_input_file = model_dir / 'cbh.nc'\n",
    "\n",
    "if pws_prcp_input_file.exists():\n",
    "    con.print('Cached pws input files already exist. To rewrite files delete the cache files.')\n",
    "else:\n",
    "    with xr.open_dataset(nhmx_input_file) as input:# This is the input file given with NHMx\n",
    "        model_input = input.swap_dims({'nhru':'nhm_id'}).drop('nhru')\n",
    "        #model_input = input.rename({'hru-d':'hruid'})\n",
    "        prcp = getattr(model_input, 'prcp')\n",
    "        tmin = getattr(model_input, 'tmin')\n",
    "        tmax = getattr(model_input, 'tmax')\n",
    "    prcp.to_netcdf(pws_prcp_input_file)\n",
    "    tmin.to_netcdf(pws_tmin_input_file)\n",
    "    tmax.to_netcdf(pws_tmax_input_file)\n",
    "    con.print('New pws input files to run pyWatershed have been written from NHMx input file (cbh.nc).')\n",
    "con.print('Have a nice day!')    \n",
    "    \n",
    "\n"
   ]
  },
  {
   "cell_type": "code",
   "execution_count": null,
   "id": "14d91351-4191-4f90-aa98-4648429ea578",
   "metadata": {},
   "outputs": [],
   "source": []
  }
 ],
 "metadata": {
  "kernelspec": {
   "display_name": "Python 3 (ipykernel)",
   "language": "python",
   "name": "python3"
  },
  "language_info": {
   "codemirror_mode": {
    "name": "ipython",
    "version": 3
   },
   "file_extension": ".py",
   "mimetype": "text/x-python",
   "name": "python",
   "nbconvert_exporter": "python",
   "pygments_lexer": "ipython3",
   "version": "3.10.13"
  }
 },
 "nbformat": 4,
 "nbformat_minor": 5
}
