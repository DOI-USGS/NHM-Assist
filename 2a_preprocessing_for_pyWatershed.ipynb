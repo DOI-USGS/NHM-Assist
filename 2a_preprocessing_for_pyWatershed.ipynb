{
 "cells": [
  {
   "cell_type": "code",
   "execution_count": null,
   "id": "9ef7d162-0193-436c-b51b-adb0143dd0c9",
   "metadata": {},
   "outputs": [],
   "source": [
    "%run \"0a_Workspace_setup.ipynb\""
   ]
  },
  {
   "cell_type": "code",
   "execution_count": null,
   "id": "0d2d44bc-f1e0-4200-ba46-000e179b3a61",
   "metadata": {},
   "outputs": [],
   "source": [
    "# Check for input in correct format for PyWatershed:\n",
    "pws_prcp_input_file = model_dir / \"prcp.nc\"\n",
    "pws_tmin_input_file = model_dir / \"tmin.nc\"\n",
    "pws_tmax_input_file = model_dir / \"tmax.nc\"\n",
    "\n",
    "nhmx_input_file = model_dir / \"cbh.nc\"\n",
    "\n",
    "input_file_path_list = [pws_prcp_input_file, pws_tmin_input_file, pws_tmax_input_file]\n",
    "\n",
    "#\n",
    "for input_file_path in input_file_path_list:\n",
    "    if not input_file_path.exists():\n",
    "        con.print(\n",
    "            f\"One or more of the pywatershed input files does not exist. All input file will be rewritten from the cbh.nc file.\"\n",
    "        )\n",
    "        with xr.open_dataset(\n",
    "            nhmx_input_file\n",
    "        ) as input:  # This is the input file given with NHMx\n",
    "            model_input = input.swap_dims({\"nhru\": \"nhm_id\"}).drop(\"nhru\")\n",
    "            # model_input = input.rename({'hru-d':'hruid'})\n",
    "            prcp = getattr(model_input, \"prcp\")\n",
    "            tmin = getattr(model_input, \"tmin\")\n",
    "            tmax = getattr(model_input, \"tmax\")\n",
    "        prcp.to_netcdf(pws_prcp_input_file)\n",
    "        tmin.to_netcdf(pws_tmin_input_file)\n",
    "        tmax.to_netcdf(pws_tmax_input_file)\n",
    "        con.print(\n",
    "            f\"The pywatershed input file [bold]{pl.Path(input_file_path).stem}[/bold] was missing. All pywatershed input files were created in {model_dir} from the cbh.nc file.\"\n",
    "        )\n",
    "    else:\n",
    "        pass\n",
    "con.print(\n",
    "    f\"[bold][green]Optional:[/bold][/green] To recreate pywatershed input files in {model_dir}, delete [bold]prcp.nc[/bold], [bold]tmin.nc[/bold], and [bold]tmax.nc[/bold] files and re-run this notebook.\"\n",
    ")"
   ]
  },
  {
   "cell_type": "markdown",
   "id": "138ca9ba-8f07-4c32-b03e-2d21c15e5d39",
   "metadata": {},
   "source": [
    "This code will be combined with notebook 2b when James is done with it."
   ]
  }
 ],
 "metadata": {
  "kernelspec": {
   "display_name": "Python 3 (ipykernel)",
   "language": "python",
   "name": "python3"
  },
  "language_info": {
   "codemirror_mode": {
    "name": "ipython",
    "version": 3
   },
   "file_extension": ".py",
   "mimetype": "text/x-python",
   "name": "python",
   "nbconvert_exporter": "python",
   "pygments_lexer": "ipython3",
   "version": "3.11.11"
  }
 },
 "nbformat": 4,
 "nbformat_minor": 5
}
