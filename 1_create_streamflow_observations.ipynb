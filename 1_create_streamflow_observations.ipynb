{
 "cells": [
  {
   "cell_type": "code",
   "execution_count": null,
   "id": "8647238a-24c8-4b12-9b42-8ec273295e64",
   "metadata": {},
   "outputs": [],
   "source": [
    "%run \"0_workspace_setup.ipynb\""
   ]
  },
  {
   "cell_type": "code",
   "execution_count": null,
   "id": "daaa55d1-68ef-4373-b5ea-bdce0726271b",
   "metadata": {},
   "outputs": [],
   "source": [
    "from nhm_helpers.sf_data_retrieval import (\n",
    "    create_nwis_sf_df,\n",
    "    create_OR_sf_df,\n",
    "    create_ecy_sf_df,\n",
    "    create_sf_efc_df,\n",
    ")\n",
    "\n",
    "from nhm_helpers.nhm_hydrofabric import (\n",
    "    create_hru_gdf,\n",
    "    create_segment_gdf,\n",
    "    create_poi_df,\n",
    "    create_default_gages_file,\n",
    "    read_gages_file,\n",
    ")\n",
    "\n",
    "from nhm_helpers.efc import plot_efc\n",
    "from nhm_helpers.nhm_assist_utilities import (\n",
    "    make_obs_plot_files,\n",
    "    fetch_nwis_gage_info,\n",
    "    delete_notebook_output_files,\n",
    ")"
   ]
  },
  {
   "cell_type": "code",
   "execution_count": null,
   "id": "a4197883-628e-45f9-a644-5eb5d147248e",
   "metadata": {},
   "outputs": [],
   "source": [
    "delete_notebook_output_files(notebook_output_dir, model_dir)"
   ]
  },
  {
   "cell_type": "markdown",
   "id": "833dd193-a98b-4763-b9e1-ad6e0678d7dc",
   "metadata": {},
   "source": [
    "# Introduction"
   ]
  },
  {
   "cell_type": "markdown",
   "id": "f6496f06-33b0-4251-8c74-69ec4c0f746f",
   "metadata": {},
   "source": [
    "Critical in the evaluation of the NHM simulated flows is the comparison to observed flows. This notebook retrieves available streamflow observations from NWIS and two state agencies, the Oregon Water Resources Department (OWRD) and the Washington Department of Ecology (ECY), combines these data sets into one daily streamflow observations file with streamflow gage information and metadata, and writes the database out as a netCDF file (`sf_efc.nc`) to be used in Notebook \"6_streamflow_output_visualization\" and other notebooks in NHM-Assist. Included in the `sf_efc.nc` are Environmental Flow Components (EFC) for daily flows using a python workflow (also in this notebook) as described by [Risley and others, 2010](https://pubs.usgs.gov/sir/2010/5016/pdf/sir20105016.pdf). \n",
    "\n",
    "This notebook also writes a default gages file (`default_gages.csv`) that includes gage information for gages in the parameter file and other NWIS gages that have data for the simulation period in the domain. A complete database of streamflow gages and observations in the model domain is necessary to evaluate the NHM and identify other gages that could be included in a model recalibration to improve the model performance.\n",
    "\n",
    "Three facts about streamflow observations and the NHM must be reviewed.\n",
    "- Streamflow observations are NOT used when running PRMS or `pywatershed`. These data are meant for comparison of simulated output only.\n",
    "- The NHM DOES use streamflow observations from NWIS in the model calibration workflow (not the streamflow file).\n",
    "- Limited streamflow gage information is stored in the parameter file.\n",
    "\n",
    "The parameter file has few parameters associated with gages (dimensioned by npoigages):\n",
    "- poi_gage_id, the agency identification number\n",
    "- poi_gage_segment, model segment identification number (nhm_seg) on which the gage falls (1 gage/segment only),\n",
    "- poi_type, historically used, but not currently used.\n",
    "\n",
    "It is important to note that the gages in the parameter file are NOT a complete set of gages in the model domain, and were NOT all used to calibrate the model.\n",
    "\n",
    "The cell below reads the NHM subdomain model hydrofabric elements for mapping HRUs and gages."
   ]
  },
  {
   "cell_type": "code",
   "execution_count": null,
   "id": "debb8bc6-16dd-4528-a5a5-f7cd74db1f19",
   "metadata": {},
   "outputs": [],
   "source": [
    "hru_gdf, hru_txt, hru_cal_level_txt = create_hru_gdf(\n",
    "    NHM_dir,\n",
    "    model_dir,\n",
    "    GIS_format,\n",
    "    param_filename,\n",
    "    nhru_params,\n",
    "    nhru_nmonths_params,\n",
    ")\n",
    "\n",
    "seg_gdf, seg_txt = create_segment_gdf(\n",
    "    model_dir,\n",
    "    GIS_format,\n",
    "    param_filename,\n",
    ")\n",
    "\n",
    "poi_df = create_poi_df(\n",
    "    model_dir,\n",
    "    param_filename,\n",
    "    control_file_name,\n",
    "    hru_gdf,\n",
    "    gages_file,\n",
    "    default_gages_file,\n",
    "    nwis_gage_nobs_min,\n",
    "    seg_gdf,\n",
    ")"
   ]
  },
  {
   "cell_type": "markdown",
   "id": "5598bfd3-f04d-4e0a-982a-1d5ec4f9faa8",
   "metadata": {},
   "source": [
    "# Retrieve all NWIS gage information and streamflow observations.\n",
    "This function pulls time series data for all NWIS gages in the domain, and then filters data to the simulation period (`nwis_gages_cache.nc`), and creates `NWISgages.csv`. Both the time series data file and the NWISgages.csv contain all site information for gages with a period of record greater than the user specified threshold (`nwis_gage_nobs_min`, set in [notebook 0](./0_Workspace_setup.ipynb)) within the simulation period **AND** ALL gages in the parameter file regardless of a period of record less than the specified threshold."
   ]
  },
  {
   "cell_type": "code",
   "execution_count": null,
   "id": "1edc92d4-ee7f-406e-aef7-9b0f94a1c07f",
   "metadata": {},
   "outputs": [],
   "source": [
    "NWIS_df = create_nwis_sf_df(\n",
    "    control_file_name,\n",
    "    model_dir,\n",
    "    output_netcdf_filename,\n",
    "    hru_gdf,\n",
    "    poi_df,\n",
    "    nwis_gage_nobs_min,\n",
    "    seg_gdf,\n",
    ")"
   ]
  },
  {
   "cell_type": "code",
   "execution_count": null,
   "id": "5c9550a9-e5fc-49d4-bcda-788ef3c87c38",
   "metadata": {},
   "outputs": [],
   "source": [
    "# nwis_gages_aoi = fetch_nwis_gage_info(\n",
    "#     model_dir,\n",
    "#     control_file_name,\n",
    "#     nwis_gage_nobs_min,\n",
    "#     hru_gdf,\n",
    "#     seg_gdf,\n",
    "# )"
   ]
  },
  {
   "cell_type": "code",
   "execution_count": null,
   "id": "b21810d6-05d2-4b45-89be-d60d1a7a71e3",
   "metadata": {},
   "outputs": [],
   "source": [
    "# nwis_gages_aoi"
   ]
  },
  {
   "cell_type": "markdown",
   "id": "220bc4e1-79e8-4d8e-b8ec-f40ff07b9183",
   "metadata": {},
   "source": [
    "## Make the default gages file (default_gages.csv)\n",
    "The `default_gages.csv` contains gages from the parameter file and NWIS gages from the domain (`nwis_gages_cache.nc`). The gages from the parameter file are represented in the variable `poi_df`. The gages in the `default_gages.csv` are represented in the variable `gages_df` here. The `default_gages.csv` may be missing site information if there are gages in the parameter file that are not in NWIS. If this is the case, an error will be displayed below and the `default_gages.csv` must be manually updated, and the file must be renamed `gages.csv`, and this notebook must be re-run. If `gages.csv` exists, then gages in the `gages.csv` are represented in the variable `gages_df`."
   ]
  },
  {
   "cell_type": "code",
   "execution_count": null,
   "id": "b65227b0-be63-4166-9cc1-5a4659e3a5bb",
   "metadata": {},
   "outputs": [],
   "source": [
    "default_gages_file = create_default_gages_file(\n",
    "    model_dir,\n",
    "    control_file_name,\n",
    "    nwis_gage_nobs_min,\n",
    "    hru_gdf,\n",
    "    poi_df,\n",
    "    seg_gdf,\n",
    ")\n",
    "\n",
    "gages_df, gages_txt, gages_txt_nb2 = read_gages_file(\n",
    "    model_dir,\n",
    "    poi_df,\n",
    "    gages_file,\n",
    ")\n",
    "\n",
    "con.print(\n",
    "    f\"\\n{gages_txt}\",\n",
    "    f\"\\n{gages_txt_nb2}\",\n",
    ")"
   ]
  },
  {
   "cell_type": "markdown",
   "id": "666f939a-733f-4828-8e0b-46a10755114b",
   "metadata": {},
   "source": [
    "#  NHM subdomains within Oregon and Washington: retrieve state collected daily streamflow data\n",
    "This section was developed to integrate state collected records of streamflow for NHM subdomain models related to hydrological investigations in the states of Washington and Oregon. This section must still be run if your subdomain model lies outside those state boundaries. Ultimately future software updates will incorporate additional state databases. \n",
    "\n",
    "Cells in this section use gages listed in the `gages_df` (created from gages listed in the `default_gages.csv`, or the updated version, `gages.csv`). This will be useful later for the user when adding gages to the subdomain model, or for model validation/calibration. Also, the `gages.csv` can be used to record gages that cannot be in the parameter file, such as the case where multiple gages cannot be associated with the same segment in the parameter file. Additional gages in the domain that cannot be in listed in the parameter file may appended to the `default_gages.csv` and therefore included in the `gages_df` and `sf_efc.nc`.\n",
    "\n",
    "The first cell below will retrieve available daily streamflow data from [Oregon Water Resources Department (OWRD)](https://apps.wrd.state.or.us/apps/sw/hydro_near_real_time/)\n",
    "\n",
    "The second cell below will retrieve available daily streamflow data from [Washington Department of Ecology (ECY)](https://waecy.maps.arcgis.com/apps/Viewer/index.html?appid=832e254169e640fba6e117780e137e7b)"
   ]
  },
  {
   "cell_type": "code",
   "execution_count": null,
   "id": "65cbb903-fee6-4fe9-bd02-ec0bf58929cf",
   "metadata": {},
   "outputs": [],
   "source": [
    "gages_df"
   ]
  },
  {
   "cell_type": "code",
   "execution_count": null,
   "id": "14d33aea-a7e0-4a63-a75f-ff8518e8fc16",
   "metadata": {},
   "outputs": [],
   "source": [
    "owrd_df = create_OR_sf_df(control, model_dir, output_netcdf_filename, hru_gdf, gages_df)"
   ]
  },
  {
   "cell_type": "code",
   "execution_count": null,
   "id": "f9434224-4ba9-43e0-ab33-8fd7a4bd4964",
   "metadata": {},
   "outputs": [],
   "source": [
    "ecy_df = create_ecy_sf_df(control, model_dir, output_netcdf_filename, hru_gdf, gages_df)"
   ]
  },
  {
   "cell_type": "markdown",
   "id": "f656dfc8-a21c-47c8-9d3c-b393248d66f8",
   "metadata": {},
   "source": [
    "# Create streamflow observations file with appended EFC values (sf_efc.nc)\n",
    "The following cell creates the efc classification codes for the NWIS daily streamflow data, and daily streamflow data if collected from Washington or Oregon the data as an encoded netCDf file formatted to match the `sf.nc` file created during the NHM subdomain model extraction routine.\n",
    "\n",
    "EFCs include extreme low flows (1), low flows(2), high-flow pulses(3), small floods (4; 2-year events), and large floods (5; 10-year events). "
   ]
  },
  {
   "cell_type": "code",
   "execution_count": null,
   "id": "4d1e8205-8910-4df0-9ce3-a91be35122b4",
   "metadata": {},
   "outputs": [],
   "source": [
    "xr_streamflow = create_sf_efc_df(\n",
    "    output_netcdf_filename,\n",
    "    owrd_df,\n",
    "    ecy_df,\n",
    "    NWIS_df,\n",
    "    gages_df,\n",
    ")"
   ]
  },
  {
   "cell_type": "markdown",
   "id": "8a6a9c0d-8972-4143-a2d5-40a77fe295e5",
   "metadata": {},
   "source": [
    "# Check streamflow observations file: plot discharge and efc information for a selected gage.\n",
    "The cell below plots data from the `sf_efc.nc` for diagnostic purposes using the start and end dates listed in the control file."
   ]
  },
  {
   "cell_type": "code",
   "execution_count": null,
   "id": "ad3b73ff-8486-42d5-a2d6-abc680aadd53",
   "metadata": {},
   "outputs": [],
   "source": [
    "cpoi_id = xr_streamflow.poi_id.values[0]\n",
    "print(\n",
    "    f\"Daily streamflow with EFC classifications for gage: {cpoi_id}; Some gages may show no data because some gages in the parameter file have data outside the simulation period.\"\n",
    ")\n",
    "start_date = pd.to_datetime(str(control.start_time)).strftime(\"%m/%d/%Y\")\n",
    "end_date = pd.to_datetime(str(control.end_time)).strftime(\"%m/%d/%Y\")\n",
    "ds_sub = xr_streamflow.sel(poi_id=cpoi_id, time=slice(start_date, end_date))\n",
    "ds_sub = ds_sub.to_dataframe()\n",
    "flow_col = \"discharge\"\n",
    "plot_efc(ds_sub, flow_col)"
   ]
  },
  {
   "cell_type": "markdown",
   "id": "8c53c620-22c0-4b07-8203-0c039d4d48bc",
   "metadata": {},
   "source": [
    "# Create daily streamflow observation plots\n",
    "#### The cell below creates plots of daily streamflow observations and saves the plots as html.txt files for all gages listed in the `gages_df`."
   ]
  },
  {
   "cell_type": "code",
   "execution_count": null,
   "id": "5b83793e-b530-4c80-aaec-252453b05a52",
   "metadata": {},
   "outputs": [],
   "source": [
    "make_obs_plot_files(control, gages_df, xr_streamflow, Folium_maps_dir)"
   ]
  },
  {
   "cell_type": "code",
   "execution_count": null,
   "id": "94c70d06-b05d-4f6a-86e2-c52208a08bf8",
   "metadata": {},
   "outputs": [],
   "source": []
  }
 ],
 "metadata": {
  "language_info": {
   "name": "python"
  }
 },
 "nbformat": 4,
 "nbformat_minor": 5
}
