{
 "cells": [
  {
   "cell_type": "code",
   "execution_count": null,
   "metadata": {},
   "outputs": [],
   "source": [
    "%run \"0_Workspace_setup.ipynb\"\n",
    "\n",
    "from NHM_helpers.output_plots import create_streamflow_plot\n",
    "from NHM_helpers.NHM_hydrofabric import make_hf_map_elements \n",
    "from NHM_helpers.map_template import make_streamflow_map\n",
    "from NHM_helpers.NHM_output_visualization import retrieve_hru_output_info\n",
    "from ipywidgets import widgets\n",
    "from IPython.display import display\n",
    "import webbrowser\n",
    "poi_id_sel = None\n",
    "crs = 4326"
   ]
  },
  {
   "cell_type": "markdown",
   "metadata": {},
   "source": [
    "## Introduction\n",
    "This notebook maps NHM domain gages with KGE values and displays in a new browser tab. A gage id can be selected and a plot created that shows a time-series of simulated and observed streamflow at daily, monhtly, and annual timesteps for the selected gage. A flow exceedance curve and table of summary statistics is also provided in the plot for streamflow evaluation purposes. Additionally, maps and plots produced are saved for use outside of notebooks as .html files in the `html_maps` and `html_plots` folders in the `notebook_output` folder."
   ]
  },
  {
   "cell_type": "code",
   "execution_count": null,
   "metadata": {},
   "outputs": [],
   "source": [
    "(\n",
    "    hru_gdf,\n",
    "    hru_txt,\n",
    "    hru_cal_level_txt,\n",
    "    seg_gdf,\n",
    "    seg_txt,\n",
    "    nwis_gages_aoi,\n",
    "    poi_df,\n",
    "    gages_df,\n",
    "    gages_txt,\n",
    "    gages_txt_nb2,\n",
    "    HW_basins_gdf,\n",
    "    HW_basins,\n",
    ") = make_hf_map_elements(\n",
    "    NHM_dir,\n",
    "    model_dir,\n",
    "    GIS_format,\n",
    "    param_filename,\n",
    "    control_file_name,\n",
    "    nwis_gages_file,\n",
    "    gages_file,\n",
    "    default_gages_file,\n",
    "    nhru_params,\n",
    "    nhru_nmonths_params,\n",
    "    nwis_gage_nobs_min,\n",
    ")\n",
    "# Retrieve pywatershed output file information for mapping and plotting\n",
    "plot_start_date, plot_end_date, year_list, output_var_list = retrieve_hru_output_info(\n",
    "    out_dir,\n",
    "    water_years,\n",
    ")\n",
    "\n",
    "con.print(\n",
    "    f\"{workspace_txt}\\n\",\n",
    "    f\"\\n{gages_txt}{seg_txt}{hru_txt}\",\n",
    "    f\"\\n     {hru_cal_level_txt}\",\n",
    ")"
   ]
  },
  {
   "cell_type": "markdown",
   "metadata": {},
   "source": [
    "## Create an interactive map to evaluate streamflow at gages (pois)"
   ]
  },
  {
   "cell_type": "code",
   "execution_count": null,
   "metadata": {},
   "outputs": [],
   "source": [
    "map_file = make_streamflow_map(\n",
    "    out_dir,\n",
    "    plot_start_date,\n",
    "    plot_end_date,\n",
    "    water_years,\n",
    "    hru_gdf,\n",
    "    poi_df,\n",
    "    poi_id_sel,\n",
    "    seg_gdf,\n",
    "    nwis_gages_aoi,\n",
    "    gages_df,\n",
    "    html_maps_dir,\n",
    "    param_filename,\n",
    "    subbasin,\n",
    "    HW_basins_gdf,\n",
    "    HW_basins,\n",
    "    output_netcdf_filename,\n",
    ")\n",
    "\n",
    "map_file_str = f\"{map_file}\"\n",
    "_ = webbrowser.open(map_file_str, new=2)"
   ]
  },
  {
   "cell_type": "markdown",
   "metadata": {},
   "source": [
    "## Paste the selected gage id in the field below"
   ]
  },
  {
   "cell_type": "markdown",
   "metadata": {},
   "source": [
    "#### &#x270D;<font color='green'>**Enter Information:**</font> **Select a gage id and make a streamflow plot.**\n",
    "> The default is set to the first gage in the `poi_df`. If a gage number is selected here,\n",
    "> the map will zoom to that location if redrawn."
   ]
  },
  {
   "cell_type": "code",
   "execution_count": null,
   "metadata": {},
   "outputs": [],
   "source": [
    "v = widgets.Combobox(\n",
    "    # value='John',\n",
    "    placeholder=\"(optional) Enter Gage ID here\",\n",
    "    options=poi_df.poi_id.tolist(),\n",
    "    description=\"Plot Gage:\",\n",
    "    ensure_option=True,\n",
    "    disabled=False,\n",
    ")\n",
    "\n",
    "\n",
    "def on_change(change):\n",
    "    global poi_id_sel, fig\n",
    "    if change[\"type\"] == \"change\" and change[\"name\"] == \"value\":\n",
    "        poi_id_sel = v.value\n",
    "\n",
    "\n",
    "v.observe(on_change)\n",
    "\n",
    "display(v)"
   ]
  },
  {
   "cell_type": "markdown",
   "metadata": {},
   "source": [
    "#### &#x1F6D1;If a new selection is made above,\n",
    "><font color='green'>**select this cell**</font>, then select <font color='green'>**Run Selected Cell and All Below**</font> from the Run menu in the toolbar."
   ]
  },
  {
   "cell_type": "code",
   "execution_count": null,
   "metadata": {},
   "outputs": [],
   "source": [
    "# Make plot\n",
    "# This is for testing only; can comment out in user version\n",
    "if poi_id_sel is None:\n",
    "    poi_id_sel = poi_df.poi_id.tolist()[0]\n",
    "\n",
    "plot_file_path = create_streamflow_plot(\n",
    "    poi_id_sel,\n",
    "    plot_start_date,\n",
    "    plot_end_date,\n",
    "    water_years,\n",
    "    html_plots_dir,\n",
    "    output_netcdf_filename,\n",
    "    out_dir,\n",
    ")"
   ]
  }
 ],
 "metadata": {
  "language_info": {
   "name": "python"
  }
 },
 "nbformat": 4,
 "nbformat_minor": 4
}
